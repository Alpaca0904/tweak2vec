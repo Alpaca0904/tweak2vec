{
 "cells": [
  {
   "cell_type": "code",
   "execution_count": 191,
   "metadata": {},
   "outputs": [],
   "source": [
    "import numpy as np\n",
    "import pandas as pd\n",
    "import tensorflow as tf\n",
    "import datetime, time"
   ]
  },
  {
   "cell_type": "code",
   "execution_count": 22,
   "metadata": {
    "collapsed": true
   },
   "outputs": [],
   "source": [
    "def zeros_padding(lst):\n",
    "    inner_mean_len = seq_length\n",
    "    result = np.zeros([len(lst), inner_mean_len])\n",
    "    for i, row in enumerate(lst):\n",
    "        for j, val in enumerate(row):\n",
    "            if j < inner_mean_len:\n",
    "                result[i][j] = val\n",
    "    return result\n",
    "    "
   ]
  },
  {
   "cell_type": "code",
   "execution_count": 180,
   "metadata": {
    "collapsed": true
   },
   "outputs": [],
   "source": [
    "def docs_to_lines(docs):\n",
    "    l = []\n",
    "    for doc in docs:\n",
    "        for line in doc:\n",
    "            l.append(line)\n",
    "    return l\n",
    "\n",
    "def to_one_of_k(int_targets, num_classes):\n",
    "    one_of_k_targets = np.zeros((np.array(int_targets).shape[0], num_classes))\n",
    "    one_of_k_targets[range(np.array(int_targets).shape[0]), int_targets] = 1\n",
    "    return one_of_k_targets\n",
    "\n",
    "        \n",
    "def get_batches(input_x, input_y, batch_size, isShuffle =  False):\n",
    "    n_batches = len(input_x) // batch_size\n",
    "    train_size = n_batches*batch_size\n",
    "    if isShuffle:\n",
    "        shuffle_idx = np.random.permutation(np.arange(len(input_x)))\n",
    "        train_x = input_x[shuffle_idx]\n",
    "        train_y = np.array(input_y)[shuffle_idx]\n",
    "    else: \n",
    "        train_x = input_x[:train_size]\n",
    "        train_y = np.array(input_y)[:train_size]\n",
    "    for idx in range(0, len(train_x), batch_size):\n",
    "        x = train_x[idx:idx+batch_size]\n",
    "        y = train_y[idx:idx+batch_size]\n",
    "        yy = to_one_of_k(y.astype(np.int32), num_classes)\n",
    "        yield x, yy"
   ]
  },
  {
   "cell_type": "markdown",
   "metadata": {},
   "source": [
    "### hyperparameter"
   ]
  },
  {
   "cell_type": "code",
   "execution_count": 193,
   "metadata": {
    "collapsed": true
   },
   "outputs": [],
   "source": [
    "w2v_google_50d = np.load('/Users/zhang/MscProject_tweak2vec/word2vecModel/pubmed/w2v_google_50d.npy')"
   ]
  },
  {
   "cell_type": "code",
   "execution_count": 192,
   "metadata": {},
   "outputs": [],
   "source": [
    "embedding_pubmed = {}\n",
    "embedding_pubmed['pubmed_3m'] = np.load('/Users/zhang/MscProject_tweak2vec/word2vecModel/pubmed/w2v_pubmed_3m.npy')\n",
    "embedding_pubmed['pubmed_2m'] = np.load('/Users/zhang/MscProject_tweak2vec/word2vecModel/pubmed/w2v_pubmed_2m.npy')\n",
    "embedding_pubmed['pubmed_1m'] = np.load('/Users/zhang/MscProject_tweak2vec/word2vecModel/pubmed/w2v_pubmed_1m.npy')\n",
    "embedding_pubmed['pubmed_05m'] = np.load('/Users/zhang/MscProject_tweak2vec/word2vecModel/pubmed/w2v_pubmed_05m.npy')\n",
    "embedding_pubmed['pubmed_01m'] = np.load('/Users/zhang/MscProject_tweak2vec/word2vecModel/pubmed/w2v_pubmed_01m.npy')\n",
    "embedding_pubmed['pubmed_005m'] = np.load('/Users/zhang/MscProject_tweak2vec/word2vecModel/pubmed/w2v_pubmed_005m.npy')\n",
    "embedding_pubmed['pubmed_001m'] = np.load('/Users/zhang/MscProject_tweak2vec/word2vecModel/pubmed/w2v_pubmed_001m.npy')\n"
   ]
  },
  {
   "cell_type": "code",
   "execution_count": 200,
   "metadata": {},
   "outputs": [
    {
     "name": "stdout",
     "output_type": "stream",
     "text": [
      "concat_pubmed_3m (27188, 50)\n",
      "concat_pubmed_2m (27188, 50)\n",
      "concat_pubmed_1m (27188, 50)\n",
      "concat_pubmed_05m (27188, 50)\n",
      "concat_pubmed_01m (27188, 50)\n",
      "concat_pubmed_005m (27188, 50)\n",
      "concat_pubmed_001m (27188, 50)\n"
     ]
    }
   ],
   "source": [
    "from sklearn.decomposition import PCA\n",
    "pca = PCA(n_components=50)\n",
    "embedding_pubmed_concat = {}\n",
    "for key in embedding_pubmed.keys():\n",
    "    key_str = 'concat_'+key\n",
    "    concat_vec = np.concatenate([w2v_google_50d, embedding_pubmed[key]], axis=1)\n",
    "    embedding_pubmed_concat[key_str]  = pca.fit_transform(concat_vec)\n",
    "    print(key_str,embedding_pubmed_concat[key_str].shape)"
   ]
  },
  {
   "cell_type": "code",
   "execution_count": 187,
   "metadata": {},
   "outputs": [],
   "source": [
    "embedding_dim = 50\n",
    "seq_length = 100 \n",
    "num_classes = 5  \n",
    "num_filters = 256  # number of kernels\n",
    "kernel_size = 5  \n",
    "vocab_size = len(embedding_pubmed['pivots1000_2m']) \n",
    "\n",
    "hidden_dim = 128  \n",
    "\n",
    "keep_prob_rate = 0.75\n",
    "learning_rate = 1e-3\n",
    "\n",
    "batch_size = 100  \n",
    "num_epoch = 8  \n",
    "\n",
    "print_per_batch = 100 \n",
    "save_per_batch = 10"
   ]
  },
  {
   "cell_type": "markdown",
   "metadata": {},
   "source": [
    "### import data"
   ]
  },
  {
   "cell_type": "code",
   "execution_count": 90,
   "metadata": {
    "collapsed": true
   },
   "outputs": [],
   "source": [
    "file_train_x = '/Users/zhang/MscProject_tweak2vec/corpus/pubmed_train_x.npy'\n",
    "file_train_y = '/Users/zhang/MscProject_tweak2vec/corpus/pubmed_train_y.npy'\n",
    "file_val_x = '/Users/zhang/MscProject_tweak2vec/corpus/pubmed_dev_x.npy'\n",
    "file_val_y = '/Users/zhang/MscProject_tweak2vec/corpus/pubmed_dev_y.npy'\n",
    "\n",
    "train_x = zeros_padding( docs_to_lines( np.load(file_train_x).tolist() ) )\n",
    "train_y = docs_to_lines( np.load(file_train_y).tolist() )\n",
    "val_x = zeros_padding( docs_to_lines( np.load(file_val_x).tolist() ) )\n",
    "val_y = to_one_of_k(docs_to_lines( np.load(file_val_y).tolist() ),5)"
   ]
  },
  {
   "cell_type": "markdown",
   "metadata": {},
   "source": [
    "### build graph"
   ]
  },
  {
   "cell_type": "code",
   "execution_count": 71,
   "metadata": {},
   "outputs": [],
   "source": [
    "train_graph = tf.Graph()\n",
    "with train_graph.as_default():\n",
    "    input_x = tf.placeholder(tf.int32, [None, seq_length], name='input_x')\n",
    "    input_y = tf.placeholder(tf.int32, [None, num_classes], name='input_y')\n",
    "    embedding = tf.placeholder(tf.float32, [vocab_size, embedding_dim], name='embedding')\n",
    "    keep_prob = tf.placeholder(tf.float32, name='keep_prob')\n",
    "    with tf.name_scope(\"embedding\"):\n",
    "        # embedding layer\n",
    "        embedding_inputs = tf.nn.embedding_lookup(embedding, input_x)\n",
    "    with tf.name_scope(\"CNN\"):\n",
    "        # CNN layer\n",
    "        conv1 = tf.layers.conv1d(inputs=embedding_inputs, filters=num_filters, \n",
    "                                 kernel_size=kernel_size, padding=\"VALID\", activation=tf.nn.relu,\n",
    "                                 activity_regularizer=tf.contrib.layers.l2_regularizer(0.001),)\n",
    "        # global maxpooling layer\n",
    "        pool1 = tf.reduce_max(conv1, reduction_indices=[1])\n",
    "        #pool1 = tf.layers.max_pooling1d(inputs=conv1, pool_size=5, strides=5,padding=\"VALID\")\n",
    "        bn1 = tf.layers.batch_normalization(pool1)\n",
    "        \n",
    "        conv2 = tf.layers.conv1d(inputs=conv1, filters=num_filters, \n",
    "                                 kernel_size=kernel_size, padding=\"VALID\", activation=tf.nn.relu,\n",
    "                                 activity_regularizer=tf.contrib.layers.l2_regularizer(0.001),)\n",
    "        pool2 = tf.reduce_max(conv2, reduction_indices=[1])\n",
    "        bn2 = tf.layers.batch_normalization(pool2)    \n",
    "        \n",
    "    with tf.name_scope(\"classifier\"):\n",
    "        # fully connected layer\n",
    "        fc = tf.layers.dense(bn2, hidden_dim, name='fc1')\n",
    "        fc = tf.contrib.layers.dropout(fc, keep_prob)\n",
    "        fc = tf.nn.relu(fc)\n",
    "        # classifier\n",
    "        logits = tf.layers.dense(fc, num_classes, name='fc2')\n",
    "        y_pred_class = tf.argmax(tf.nn.softmax(logits), 1) \n",
    "    with tf.name_scope(\"optimize\"):\n",
    "        cross_entropy = tf.nn.softmax_cross_entropy_with_logits(logits=logits, labels=input_y)\n",
    "        loss = tf.reduce_mean(cross_entropy)\n",
    "        optimizer = tf.train.AdamOptimizer(learning_rate=learning_rate).minimize(loss)\n",
    "    with tf.name_scope(\"accuracy\"):\n",
    "        correct_pred = tf.equal(tf.argmax(input_y, 1), y_pred_class)\n",
    "        accuracy = tf.reduce_mean(tf.cast(correct_pred, tf.float32))\n",
    "    \n"
   ]
  },
  {
   "cell_type": "markdown",
   "metadata": {},
   "source": [
    "### train model"
   ]
  },
  {
   "cell_type": "code",
   "execution_count": 202,
   "metadata": {
    "scrolled": true
   },
   "outputs": [
    {
     "name": "stdout",
     "output_type": "stream",
     "text": [
      "concat_pubmed_3m Starting training at 2018-07-19 01:00:03.909807\n",
      "Epoch 1/8 Iteration: 600 Avg. Training loss: 0.8227 Avg. Training acc: 0.6771 0.2048 sec/batch\n",
      "Epoch 1/8 Iteration: 1200 Avg. Training loss: 0.6689 Avg. Training acc: 0.7467 0.2054 sec/batch\n",
      "Epoch 1/8 Iteration: 1800 Avg. Training loss: 0.6251 Avg. Training acc: 0.7632 0.2046 sec/batch\n",
      "Epoch 1/8 Avg. Val. loss: 0.5894 Avg. Val. acc: 0.7733 35.8396 sec --------------------------------\n"
     ]
    },
    {
     "ename": "KeyboardInterrupt",
     "evalue": "",
     "output_type": "error",
     "traceback": [
      "\u001b[0;31m---------------------------------------------------------------------------\u001b[0m",
      "\u001b[0;31mKeyboardInterrupt\u001b[0m                         Traceback (most recent call last)",
      "\u001b[0;32m<ipython-input-202-6e77cb88ded4>\u001b[0m in \u001b[0;36m<module>\u001b[0;34m()\u001b[0m\n\u001b[1;32m     34\u001b[0m                         \u001b[0membedding\u001b[0m\u001b[0;34m:\u001b[0m \u001b[0membedding_pubmed_concat\u001b[0m\u001b[0;34m[\u001b[0m\u001b[0membed_type\u001b[0m\u001b[0;34m]\u001b[0m\u001b[0;34m,\u001b[0m\u001b[0;34m\u001b[0m\u001b[0m\n\u001b[1;32m     35\u001b[0m                         keep_prob: keep_prob_rate}\n\u001b[0;32m---> 36\u001b[0;31m                 \u001b[0mtrain_loss\u001b[0m\u001b[0;34m,\u001b[0m \u001b[0mtrain_acc\u001b[0m\u001b[0;34m,\u001b[0m \u001b[0m_\u001b[0m \u001b[0;34m=\u001b[0m \u001b[0msess\u001b[0m\u001b[0;34m.\u001b[0m\u001b[0mrun\u001b[0m\u001b[0;34m(\u001b[0m\u001b[0;34m[\u001b[0m\u001b[0mloss\u001b[0m\u001b[0;34m,\u001b[0m \u001b[0maccuracy\u001b[0m\u001b[0;34m,\u001b[0m \u001b[0moptimizer\u001b[0m\u001b[0;34m]\u001b[0m\u001b[0;34m,\u001b[0m \u001b[0mfeed_dict\u001b[0m\u001b[0;34m=\u001b[0m\u001b[0mfeed\u001b[0m\u001b[0;34m)\u001b[0m\u001b[0;34m\u001b[0m\u001b[0m\n\u001b[0m\u001b[1;32m     37\u001b[0m                 \u001b[0mt_loss\u001b[0m \u001b[0;34m+=\u001b[0m \u001b[0mtrain_loss\u001b[0m\u001b[0;34m\u001b[0m\u001b[0m\n\u001b[1;32m     38\u001b[0m                 \u001b[0mt_acc\u001b[0m \u001b[0;34m+=\u001b[0m \u001b[0mtrain_acc\u001b[0m\u001b[0;34m\u001b[0m\u001b[0m\n",
      "\u001b[0;32m~/anaconda/envs/mlp/lib/python3.6/site-packages/tensorflow/python/client/session.py\u001b[0m in \u001b[0;36mrun\u001b[0;34m(self, fetches, feed_dict, options, run_metadata)\u001b[0m\n\u001b[1;32m    903\u001b[0m     \u001b[0;32mtry\u001b[0m\u001b[0;34m:\u001b[0m\u001b[0;34m\u001b[0m\u001b[0m\n\u001b[1;32m    904\u001b[0m       result = self._run(None, fetches, feed_dict, options_ptr,\n\u001b[0;32m--> 905\u001b[0;31m                          run_metadata_ptr)\n\u001b[0m\u001b[1;32m    906\u001b[0m       \u001b[0;32mif\u001b[0m \u001b[0mrun_metadata\u001b[0m\u001b[0;34m:\u001b[0m\u001b[0;34m\u001b[0m\u001b[0m\n\u001b[1;32m    907\u001b[0m         \u001b[0mproto_data\u001b[0m \u001b[0;34m=\u001b[0m \u001b[0mtf_session\u001b[0m\u001b[0;34m.\u001b[0m\u001b[0mTF_GetBuffer\u001b[0m\u001b[0;34m(\u001b[0m\u001b[0mrun_metadata_ptr\u001b[0m\u001b[0;34m)\u001b[0m\u001b[0;34m\u001b[0m\u001b[0m\n",
      "\u001b[0;32m~/anaconda/envs/mlp/lib/python3.6/site-packages/tensorflow/python/client/session.py\u001b[0m in \u001b[0;36m_run\u001b[0;34m(self, handle, fetches, feed_dict, options, run_metadata)\u001b[0m\n\u001b[1;32m   1135\u001b[0m     \u001b[0;32mif\u001b[0m \u001b[0mfinal_fetches\u001b[0m \u001b[0;32mor\u001b[0m \u001b[0mfinal_targets\u001b[0m \u001b[0;32mor\u001b[0m \u001b[0;34m(\u001b[0m\u001b[0mhandle\u001b[0m \u001b[0;32mand\u001b[0m \u001b[0mfeed_dict_tensor\u001b[0m\u001b[0;34m)\u001b[0m\u001b[0;34m:\u001b[0m\u001b[0;34m\u001b[0m\u001b[0m\n\u001b[1;32m   1136\u001b[0m       results = self._do_run(handle, final_targets, final_fetches,\n\u001b[0;32m-> 1137\u001b[0;31m                              feed_dict_tensor, options, run_metadata)\n\u001b[0m\u001b[1;32m   1138\u001b[0m     \u001b[0;32melse\u001b[0m\u001b[0;34m:\u001b[0m\u001b[0;34m\u001b[0m\u001b[0m\n\u001b[1;32m   1139\u001b[0m       \u001b[0mresults\u001b[0m \u001b[0;34m=\u001b[0m \u001b[0;34m[\u001b[0m\u001b[0;34m]\u001b[0m\u001b[0;34m\u001b[0m\u001b[0m\n",
      "\u001b[0;32m~/anaconda/envs/mlp/lib/python3.6/site-packages/tensorflow/python/client/session.py\u001b[0m in \u001b[0;36m_do_run\u001b[0;34m(self, handle, target_list, fetch_list, feed_dict, options, run_metadata)\u001b[0m\n\u001b[1;32m   1353\u001b[0m     \u001b[0;32mif\u001b[0m \u001b[0mhandle\u001b[0m \u001b[0;32mis\u001b[0m \u001b[0;32mNone\u001b[0m\u001b[0;34m:\u001b[0m\u001b[0;34m\u001b[0m\u001b[0m\n\u001b[1;32m   1354\u001b[0m       return self._do_call(_run_fn, self._session, feeds, fetches, targets,\n\u001b[0;32m-> 1355\u001b[0;31m                            options, run_metadata)\n\u001b[0m\u001b[1;32m   1356\u001b[0m     \u001b[0;32melse\u001b[0m\u001b[0;34m:\u001b[0m\u001b[0;34m\u001b[0m\u001b[0m\n\u001b[1;32m   1357\u001b[0m       \u001b[0;32mreturn\u001b[0m \u001b[0mself\u001b[0m\u001b[0;34m.\u001b[0m\u001b[0m_do_call\u001b[0m\u001b[0;34m(\u001b[0m\u001b[0m_prun_fn\u001b[0m\u001b[0;34m,\u001b[0m \u001b[0mself\u001b[0m\u001b[0;34m.\u001b[0m\u001b[0m_session\u001b[0m\u001b[0;34m,\u001b[0m \u001b[0mhandle\u001b[0m\u001b[0;34m,\u001b[0m \u001b[0mfeeds\u001b[0m\u001b[0;34m,\u001b[0m \u001b[0mfetches\u001b[0m\u001b[0;34m)\u001b[0m\u001b[0;34m\u001b[0m\u001b[0m\n",
      "\u001b[0;32m~/anaconda/envs/mlp/lib/python3.6/site-packages/tensorflow/python/client/session.py\u001b[0m in \u001b[0;36m_do_call\u001b[0;34m(self, fn, *args)\u001b[0m\n\u001b[1;32m   1359\u001b[0m   \u001b[0;32mdef\u001b[0m \u001b[0m_do_call\u001b[0m\u001b[0;34m(\u001b[0m\u001b[0mself\u001b[0m\u001b[0;34m,\u001b[0m \u001b[0mfn\u001b[0m\u001b[0;34m,\u001b[0m \u001b[0;34m*\u001b[0m\u001b[0margs\u001b[0m\u001b[0;34m)\u001b[0m\u001b[0;34m:\u001b[0m\u001b[0;34m\u001b[0m\u001b[0m\n\u001b[1;32m   1360\u001b[0m     \u001b[0;32mtry\u001b[0m\u001b[0;34m:\u001b[0m\u001b[0;34m\u001b[0m\u001b[0m\n\u001b[0;32m-> 1361\u001b[0;31m       \u001b[0;32mreturn\u001b[0m \u001b[0mfn\u001b[0m\u001b[0;34m(\u001b[0m\u001b[0;34m*\u001b[0m\u001b[0margs\u001b[0m\u001b[0;34m)\u001b[0m\u001b[0;34m\u001b[0m\u001b[0m\n\u001b[0m\u001b[1;32m   1362\u001b[0m     \u001b[0;32mexcept\u001b[0m \u001b[0merrors\u001b[0m\u001b[0;34m.\u001b[0m\u001b[0mOpError\u001b[0m \u001b[0;32mas\u001b[0m \u001b[0me\u001b[0m\u001b[0;34m:\u001b[0m\u001b[0;34m\u001b[0m\u001b[0m\n\u001b[1;32m   1363\u001b[0m       \u001b[0mmessage\u001b[0m \u001b[0;34m=\u001b[0m \u001b[0mcompat\u001b[0m\u001b[0;34m.\u001b[0m\u001b[0mas_text\u001b[0m\u001b[0;34m(\u001b[0m\u001b[0me\u001b[0m\u001b[0;34m.\u001b[0m\u001b[0mmessage\u001b[0m\u001b[0;34m)\u001b[0m\u001b[0;34m\u001b[0m\u001b[0m\n",
      "\u001b[0;32m~/anaconda/envs/mlp/lib/python3.6/site-packages/tensorflow/python/client/session.py\u001b[0m in \u001b[0;36m_run_fn\u001b[0;34m(session, feed_dict, fetch_list, target_list, options, run_metadata)\u001b[0m\n\u001b[1;32m   1338\u001b[0m         \u001b[0;32melse\u001b[0m\u001b[0;34m:\u001b[0m\u001b[0;34m\u001b[0m\u001b[0m\n\u001b[1;32m   1339\u001b[0m           return tf_session.TF_Run(session, options, feed_dict, fetch_list,\n\u001b[0;32m-> 1340\u001b[0;31m                                    target_list, status, run_metadata)\n\u001b[0m\u001b[1;32m   1341\u001b[0m \u001b[0;34m\u001b[0m\u001b[0m\n\u001b[1;32m   1342\u001b[0m     \u001b[0;32mdef\u001b[0m \u001b[0m_prun_fn\u001b[0m\u001b[0;34m(\u001b[0m\u001b[0msession\u001b[0m\u001b[0;34m,\u001b[0m \u001b[0mhandle\u001b[0m\u001b[0;34m,\u001b[0m \u001b[0mfeed_dict\u001b[0m\u001b[0;34m,\u001b[0m \u001b[0mfetch_list\u001b[0m\u001b[0;34m)\u001b[0m\u001b[0;34m:\u001b[0m\u001b[0;34m\u001b[0m\u001b[0m\n",
      "\u001b[0;31mKeyboardInterrupt\u001b[0m: "
     ]
    }
   ],
   "source": [
    "# for embed_type in embedding_pubmed.keys():\n",
    "for embed_type in embedding_pubmed_concat.keys():\n",
    "\n",
    "    print( embed_type + \" Starting training at\", datetime.datetime.now())\n",
    "    #sess = tf.InteractiveSession()\n",
    "    #saver = tf.train.Saver()\n",
    "\n",
    "    train_loss_lst = []\n",
    "    train_acc_lst = []\n",
    "    val_loss_lst = []\n",
    "    val_acc_lst = []\n",
    "\n",
    "    with tf.Session(graph=train_graph) as sess:\n",
    "        sess.run(tf.global_variables_initializer())\n",
    "\n",
    "        t_loss = 0\n",
    "        t_acc = 0\n",
    "        v_best_acc = 0\n",
    "        iteration = 0\n",
    "        train_batches_size = len(train_x) // batch_size\n",
    "        val_batches_size = len(val_x) // batch_size\n",
    "\n",
    "        for e in range(1, num_epoch+1):\n",
    "            train_batches = get_batches(train_x, train_y, batch_size, isShuffle =  True)\n",
    "            val_batches = get_batches(val_x, val_y, batch_size)\n",
    "            \n",
    "\n",
    "            start = time.time()  \n",
    "            # training\n",
    "            for train_inputs, train_targets in train_batches:\n",
    "                iteration += 1\n",
    "                feed = {input_x: train_inputs,\n",
    "                        input_y: train_targets,\n",
    "                        embedding: embedding_pubmed_concat[embed_type],\n",
    "                        keep_prob: keep_prob_rate}\n",
    "                train_loss, train_acc, _ = sess.run([loss, accuracy, optimizer], feed_dict=feed)\n",
    "                t_loss += train_loss\n",
    "                t_acc += train_acc\n",
    "                if iteration % 600 == 0:\n",
    "                    end = time.time()\n",
    "                    print(\"Epoch {}/{}\".format(e, num_epoch),\n",
    "                          \"Iteration: {}\".format(iteration),\n",
    "                          \"Avg. Training loss: {:.4f}\".format(t_loss / 600),\n",
    "                          \"Avg. Training acc: {:.4f}\".format(t_acc / 600),\n",
    "                          \"{:.4f} sec/batch\".format((end - start) / 600))      \n",
    "                    t_loss = 0\n",
    "                    t_acc = 0\n",
    "                    start = time.time()\n",
    "            train_loss_lst.append(train_loss)\n",
    "            train_acc_lst.append(train_acc)\n",
    "\n",
    "\n",
    "            # validation\n",
    "            feed = {input_x: val_x,\n",
    "                    input_y: val_y,\n",
    "                    embedding: embedding_pubmed_concat[embed_type],\n",
    "                    keep_prob: 1}\n",
    "            val_loss, val_acc, y_pred = sess.run([loss, accuracy, y_pred_class], feed_dict=feed)\n",
    "            if val_acc > v_best_acc:\n",
    "                v_best_acc = val_acc\n",
    "                y_predict = y_pred\n",
    "\n",
    "            end = time.time()\n",
    "            print(\"Epoch {}/{}\".format(e, num_epoch),\n",
    "                  \"Avg. Val. loss: {:.4f}\".format(val_loss),\n",
    "                  \"Avg. Val. acc: {:.4f}\".format(val_acc),\n",
    "                  \"{:.4f} sec\".format(end - start),\n",
    "                  \"--------------------------------\")\n",
    "            val_loss_lst.append(val_loss)\n",
    "            val_acc_lst.append(val_acc)\n",
    "        y_label = docs_to_lines( np.load(file_val_y).tolist() )\n",
    "        confusion_mat = tf.confusion_matrix(y_label, y_predict, 5)\n",
    "        confusion = sess.run(confusion_mat)\n",
    "\n",
    "\n",
    "    print(\"Finish at\", datetime.datetime.now())\n",
    "\n",
    "    np.save(embed_type+'_train_acc.npy',np.array(train_acc_lst))\n",
    "    np.save(embed_type+'_train_loss.npy',np.array(train_loss_lst))\n",
    "    np.save(embed_type+'_val_acc.npy',np.array(val_acc_lst))\n",
    "    np.save(embed_type+'_val_loss.npy',np.array(val_loss_lst))\n",
    "    np.save(embed_type+'_confusion.npy',confusion)"
   ]
  },
  {
   "cell_type": "code",
   "execution_count": 140,
   "metadata": {},
   "outputs": [
    {
     "name": "stdout",
     "output_type": "stream",
     "text": [
      "[[2191  159  274   95  730]\n",
      " [ 849 1017  189   39  282]\n",
      " [ 155   32 8872  720  185]\n",
      " [  81    0  696 8529  535]\n",
      " [ 424    4  230  514 3410]]\n"
     ]
    }
   ],
   "source": [
    "with tf.Session(graph=train_graph) as sess:\n",
    "    y_label = docs_to_lines( np.load(file_val_y).tolist() )\n",
    "    confusion_mat = tf.confusion_matrix(y_label, y_predict, 5)\n",
    "    confusion = sess.run(confusion_mat)\n",
    "    print(confusion)"
   ]
  },
  {
   "cell_type": "code",
   "execution_count": 12,
   "metadata": {
    "collapsed": true
   },
   "outputs": [],
   "source": [
    "# np.save('pubmed_26m_train_acc.npy',np.array(train_acc_lst))\n",
    "# np.save('pubmed_26m_train_loss.npy',np.array(train_loss_lst))\n",
    "# np.save('pubmed_26m_val_acc.npy',np.array(val_acc_lst))\n",
    "# np.save('pubmed_26m_val_loss.npy',np.array(val_loss_lst))\n",
    "# np.save('pubmed_26m_confusion.npy',confusion)"
   ]
  }
 ],
 "metadata": {
  "kernelspec": {
   "display_name": "Python 3",
   "language": "python",
   "name": "python3"
  },
  "language_info": {
   "codemirror_mode": {
    "name": "ipython",
    "version": 3
   },
   "file_extension": ".py",
   "mimetype": "text/x-python",
   "name": "python",
   "nbconvert_exporter": "python",
   "pygments_lexer": "ipython3",
   "version": "3.6.3"
  }
 },
 "nbformat": 4,
 "nbformat_minor": 2
}
