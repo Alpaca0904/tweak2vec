{
 "cells": [
  {
   "cell_type": "code",
   "execution_count": 1,
   "metadata": {
    "collapsed": true
   },
   "outputs": [],
   "source": [
    "import numpy as np\n",
    "import gensim.models\n",
    "import matplotlib.pyplot as plt"
   ]
  },
  {
   "cell_type": "code",
   "execution_count": 2,
   "metadata": {
    "collapsed": true
   },
   "outputs": [],
   "source": [
    "import math\n",
    "def sigmoid(x):\n",
    "    return 1 / (1 + math.exp(-x))"
   ]
  },
  {
   "cell_type": "code",
   "execution_count": 3,
   "metadata": {
    "collapsed": true
   },
   "outputs": [],
   "source": [
    "dict_slice = lambda adict, start, end: dict((k, adict[k]) for k in list(adict.keys())[start:end])"
   ]
  },
  {
   "cell_type": "code",
   "execution_count": 4,
   "metadata": {
    "collapsed": true
   },
   "outputs": [],
   "source": [
    "google_mode_subset = {}\n",
    "indice = range(1,26)\n",
    "for i in indice:\n",
    "    google_mode_subset[i] = gensim.models.KeyedVectors.load_word2vec_format(\n",
    "    '/Users/zhang/MscProject_tweak2vec/GoogleNews-vectors-negative300.bin',binary=True, limit= i * 1000)"
   ]
  },
  {
   "cell_type": "code",
   "execution_count": 5,
   "metadata": {
    "collapsed": true
   },
   "outputs": [],
   "source": [
    "google_model_full = gensim.models.KeyedVectors.load_word2vec_format(\n",
    "    '/Users/zhang/MscProject_tweak2vec/GoogleNews-vectors-negative300.bin',binary=True)"
   ]
  },
  {
   "cell_type": "code",
   "execution_count": 127,
   "metadata": {},
   "outputs": [
    {
     "data": {
      "text/plain": [
       "4500001500000"
      ]
     },
     "execution_count": 127,
     "metadata": {},
     "output_type": "execute_result"
    }
   ],
   "source": [
    "google_total_counts = 0\n",
    "for words in google_model_full.vocab.keys():\n",
    "    google_total_counts += google_model_full.vocab[words].count\n",
    "google_total_counts"
   ]
  },
  {
   "cell_type": "code",
   "execution_count": 128,
   "metadata": {},
   "outputs": [],
   "source": [
    "quora_total_counts = 46007576"
   ]
  },
  {
   "cell_type": "markdown",
   "metadata": {},
   "source": [
    "### quora"
   ]
  },
  {
   "cell_type": "code",
   "execution_count": 6,
   "metadata": {},
   "outputs": [
    {
     "data": {
      "text/plain": [
       "30300"
      ]
     },
     "execution_count": 6,
     "metadata": {},
     "output_type": "execute_result"
    }
   ],
   "source": [
    "quora_wordlist = np.load('/Users/zhang/MscProject_tweak2vec/corpus/quora_vocab5.npy').tolist()\n",
    "quora_wordlist.append(['UNK','0'])\n",
    "word2idx = {w[0]: quora_wordlist.index(w) for w in quora_wordlist }\n",
    "idx2word = {quora_wordlist.index(w): w[0] for w in quora_wordlist }\n",
    "len(word2idx)"
   ]
  },
  {
   "cell_type": "markdown",
   "metadata": {},
   "source": [
    "### compute alpha"
   ]
  },
  {
   "cell_type": "code",
   "execution_count": 7,
   "metadata": {
    "collapsed": true
   },
   "outputs": [],
   "source": [
    "quora_counts = np.array(quora_wordlist)[:,1].astype(int)\n",
    "quora_words = np.array(quora_wordlist)[:,0]"
   ]
  },
  {
   "cell_type": "code",
   "execution_count": 10,
   "metadata": {},
   "outputs": [
    {
     "data": {
      "text/plain": [
       "24965"
      ]
     },
     "execution_count": 10,
     "metadata": {},
     "output_type": "execute_result"
    }
   ],
   "source": [
    "q_all_pivots = []\n",
    "for i in range(len(word2idx)):\n",
    "    word = idx2word[i]\n",
    "    if word in google_model_full:\n",
    "        q_all_pivots.append(word)\n",
    "len(q_all_pivots)"
   ]
  },
  {
   "cell_type": "code",
   "execution_count": 12,
   "metadata": {},
   "outputs": [
    {
     "data": {
      "text/plain": [
       "223273"
      ]
     },
     "execution_count": 12,
     "metadata": {},
     "output_type": "execute_result"
    }
   ],
   "source": [
    "quora_word_count = {}\n",
    "quora_total_count = []\n",
    "for word in q_all_pivots:\n",
    "    count = quora_counts[word2idx[word]]\n",
    "    quora_word_count[word] = count\n",
    "    quora_total_count.append(count)\n",
    "quora_min_count = np.min(np.array(quora_total_count))\n",
    "quora_max_count = np.max(np.array(quora_total_count))\n",
    "quora_sum_count = np.sum(np.array(quora_total_count))\n",
    "quora_max_count"
   ]
  },
  {
   "cell_type": "code",
   "execution_count": 13,
   "metadata": {},
   "outputs": [
    {
     "data": {
      "text/plain": [
       "2972458"
      ]
     },
     "execution_count": 13,
     "metadata": {},
     "output_type": "execute_result"
    }
   ],
   "source": [
    "google_word_count = {}\n",
    "google_total_count = []\n",
    "for word in q_all_pivots:\n",
    "    count = google_model_full.vocab[word].count -27541\n",
    "    google_word_count[word] = count \n",
    "    google_total_count.append(count)\n",
    "google_min_count = np.min(np.array(google_total_count))\n",
    "google_max_count = np.max(np.array(google_total_count))\n",
    "google_sum_count = np.sum(np.array(google_total_count))\n",
    "google_max_count"
   ]
  },
  {
   "cell_type": "code",
   "execution_count": 14,
   "metadata": {
    "collapsed": true
   },
   "outputs": [],
   "source": [
    "quora_max = 223273\n",
    "google_max = 2972458"
   ]
  },
  {
   "cell_type": "code",
   "execution_count": 15,
   "metadata": {},
   "outputs": [
    {
     "data": {
      "text/plain": [
       "[2.1322340084783953e-05,\n",
       " 2.1353344098362648e-05,\n",
       " 2.1351038219763474e-05,\n",
       " 2.1343703089149457e-05,\n",
       " 2.1340059439434178e-05,\n",
       " 2.1330020279930473e-05,\n",
       " 2.131631579016524e-05,\n",
       " 2.1305772360702413e-05,\n",
       " 2.1296400134707127e-05,\n",
       " 2.1295424662115536e-05]"
      ]
     },
     "execution_count": 15,
     "metadata": {},
     "output_type": "execute_result"
    }
   ],
   "source": [
    "quora_theta_word = []\n",
    "ffs = []\n",
    "fft = []\n",
    "for i in range(len(word2idx)):\n",
    "    word = idx2word[i]\n",
    "    if word in google_model_full:\n",
    "        f_s = google_word_count[word] / google_sum_count\n",
    "        f_t = quora_word_count[word] / quora_sum_count\n",
    "        theta_w = (2 * f_s * f_t)/(f_s +f_t) \n",
    "        #print(f_s, f_d, theta_w)\n",
    "        quora_theta_word.append(theta_w)\n",
    "    else:\n",
    "        quora_theta_word.append(0)      \n",
    "\n",
    "quora_theta_word = np.array(quora_theta_word)\n",
    "\n",
    "quora_alpha = []\n",
    "for i in quora_theta_word:\n",
    "    if i == 0:\n",
    "        quora_alpha.append(0)\n",
    "    else:\n",
    "        quora_alpha.append( (sigmoid(i)-0.5))\n",
    "np.save('quora_alpha.npy',quora_alpha)\n",
    "quora_alpha[:10]"
   ]
  },
  {
   "cell_type": "code",
   "execution_count": 16,
   "metadata": {},
   "outputs": [
    {
     "data": {
      "text/plain": [
       "array([2.13223401e-04, 2.13533441e-04, 2.13510382e-04, ...,\n",
       "       3.67973920e-06, 0.00000000e+00, 0.00000000e+00])"
      ]
     },
     "execution_count": 16,
     "metadata": {},
     "output_type": "execute_result"
    }
   ],
   "source": [
    "np.array(quora_alpha)*10"
   ]
  },
  {
   "cell_type": "code",
   "execution_count": 17,
   "metadata": {
    "collapsed": true
   },
   "outputs": [],
   "source": [
    "quora_alpha_remove_zero = []\n",
    "for i in range(len(quora_alpha)):\n",
    "    if quora_alpha[i] != 0:\n",
    "        quora_alpha_remove_zero.append(quora_alpha[i])"
   ]
  },
  {
   "cell_type": "code",
   "execution_count": 18,
   "metadata": {},
   "outputs": [
    {
     "data": {
      "image/png": "[encoded data removed]",
      "text/plain": [
       "<matplotlib.figure.Figure at 0x1b53249160>"
      ]
     },
     "metadata": {},
     "output_type": "display_data"
    }
   ],
   "source": [
    "fig = plt.figure(figsize=(20, 6))\n",
    "ax1 = plt.subplot(111)\n",
    "num = range(len(quora_alpha_remove_zero))\n",
    "ax1.plot(num,quora_alpha_remove_zero, linestyle='-',)\n",
    "ax1.legend(loc=0)\n",
    "plt.grid(True)\n",
    "plt.show()"
   ]
  },
  {
   "cell_type": "code",
   "execution_count": 200,
   "metadata": {},
   "outputs": [
    {
     "data": {
      "image/png": "[encoded data removed]",
      "text/plain": [
       "<matplotlib.figure.Figure at 0x1b89fef0b8>"
      ]
     },
     "metadata": {},
     "output_type": "display_data"
    }
   ],
   "source": [
    "fig = plt.figure(figsize=(20, 6))\n",
    "ax1 = plt.subplot(111)\n",
    "num = range(1000)\n",
    "ax1.plot(num,ffs[:1000], linestyle='-', label='google')\n",
    "ax1.plot(num,ffd[:1000], linestyle='-', label='quora')\n",
    "ax1.legend(loc=0)\n",
    "# ax1.set_xlabel('subset size (k words)')\n",
    "# ax1.set_ylabel('overlapping ratio')\n",
    "# plt.xticks(model_num)\n",
    "#plt.ylim(0,10e-07)\n",
    "plt.grid(True)\n",
    "plt.show()"
   ]
  },
  {
   "cell_type": "markdown",
   "metadata": {},
   "source": [
    "### select pivots"
   ]
  },
  {
   "cell_type": "code",
   "execution_count": 336,
   "metadata": {},
   "outputs": [
    {
     "name": "stdout",
     "output_type": "stream",
     "text": [
      "1 485 0.485\n",
      "2 1031 0.5155\n",
      "3 1549 0.5163333333333333\n",
      "4 2071 0.51775\n",
      "5 2624 0.5248\n",
      "6 3096 0.516\n",
      "7 3593 0.5132857142857142\n",
      "8 4102 0.51275\n",
      "9 4581 0.509\n",
      "10 5075 0.5075\n",
      "11 5551 0.5046363636363637\n",
      "12 5997 0.49975\n",
      "13 6441 0.49546153846153845\n",
      "14 6860 0.49\n",
      "15 7264 0.4842666666666667\n",
      "16 7681 0.4800625\n",
      "17 8130 0.47823529411764704\n",
      "18 8564 0.4757777777777778\n",
      "19 8948 0.4709473684210526\n",
      "20 9343 0.46715\n",
      "21 9741 0.46385714285714286\n",
      "22 10134 0.4606363636363636\n",
      "23 10500 0.45652173913043476\n",
      "24 10862 0.45258333333333334\n",
      "25 11218 0.44872\n"
     ]
    }
   ],
   "source": [
    "quora_size = []\n",
    "quora_rate = []\n",
    "quora_pivots = {}\n",
    "for i in indice:\n",
    "    size = 0\n",
    "    quora_pivots[i] = []\n",
    "    quora_subset = np.array(quora_wordlist)[0:i*1000,0]\n",
    "    for word in quora_subset:\n",
    "        if word in google_mode_subset[i]:\n",
    "            quora_pivots[i].append(word)\n",
    "            size +=1\n",
    "    quora_size.append(size)\n",
    "    quora_rate.append(size/(i*1000))\n",
    "    print(i,size,size/(i*1000))"
   ]
  },
  {
   "cell_type": "code",
   "execution_count": 327,
   "metadata": {},
   "outputs": [
    {
     "data": {
      "text/plain": [
       "30300"
      ]
     },
     "execution_count": 327,
     "metadata": {},
     "output_type": "execute_result"
    }
   ],
   "source": [
    "w2v_quora_google_50d = np.load('/Users/zhang/MscProject_tweak2vec/word2vecModel/quora/tokens/w2v_quoragoogle_50d.npy')\n",
    "len(w2v_quora_google_50d)"
   ]
  },
  {
   "cell_type": "code",
   "execution_count": 342,
   "metadata": {},
   "outputs": [
    {
     "name": "stdout",
     "output_type": "stream",
     "text": [
      "485\n",
      "5075\n",
      "9343\n"
     ]
    }
   ],
   "source": [
    "embed_with_pivots = {}\n",
    "for p_num in [1,10,20]:\n",
    "    embed_with_pivots[p_num] = {}\n",
    "    for i in range(len(idx2word)):\n",
    "        w = idx2word[i]\n",
    "        if w in quora_pivots[p_num]:\n",
    "            embed_with_pivots[p_num][i] = w2v_quora_google_50d[i].tolist()\n",
    "    print(len(embed_with_pivots[p_num]))\n",
    "    f = open('quora_pivot_'+str(p_num)+'.txt','w')  \n",
    "    f.write(str(embed_with_pivots[p_num]))\n",
    "    f.close()    "
   ]
  },
  {
   "cell_type": "code",
   "execution_count": 292,
   "metadata": {},
   "outputs": [
    {
     "data": {
      "image/png": "[encoded data removed]",
      "text/plain": [
       "<matplotlib.figure.Figure at 0x1a4d2c26d8>"
      ]
     },
     "metadata": {},
     "output_type": "display_data"
    }
   ],
   "source": [
    "fig = plt.figure(figsize=(12, 6))\n",
    "ax1 = plt.subplot(111)\n",
    "model_num = range(1,26)\n",
    "ax1.plot(model_num,quora_rate, linestyle='-')\n",
    "ax1.legend(loc=0)\n",
    "ax1.set_xlabel('subset vocabualry size (k words)')\n",
    "ax1.set_ylabel('overlapping ratio')\n",
    "\n",
    "plt.annotate(1031,xy=(2,quora_rate[1]),xytext=(1.5,quora_rate[1]))\n",
    "plt.annotate(2624,xy=(5,quora_rate[4]),xytext=(4.5,quora_rate[4]))\n",
    "plt.annotate(5075,xy=(10,quora_rate[9]),xytext=(9.5,quora_rate[9]))\n",
    "plt.annotate(7264,xy=(15,quora_rate[14]),xytext=(14.5,quora_rate[14]))\n",
    "plt.annotate(10134,xy=(22,quora_rate[21]),xytext=(21.5,quora_rate[21]))\n",
    "\n",
    "\n",
    "\n",
    "plt.xticks(model_num)\n",
    "plt.grid(True)\n",
    "plt.show()\n",
    "fig.savefig(\"quora_overlap.pdf\")"
   ]
  },
  {
   "cell_type": "markdown",
   "metadata": {},
   "source": [
    "### pubmed"
   ]
  },
  {
   "cell_type": "code",
   "execution_count": 19,
   "metadata": {},
   "outputs": [
    {
     "data": {
      "text/plain": [
       "27188"
      ]
     },
     "execution_count": 19,
     "metadata": {},
     "output_type": "execute_result"
    }
   ],
   "source": [
    "pubmed_wordlist = np.load('/Users/zhang/MscProject_tweak2vec/corpus/pubmed_vocab5_frq.npy').tolist()\n",
    "pubmed_wordlist.append(['UNK','0'])\n",
    "p_word2idx = {w[0]: pubmed_wordlist.index(w) for w in pubmed_wordlist }\n",
    "p_idx2word = {pubmed_wordlist.index(w): w[0] for w in pubmed_wordlist }\n",
    "len(p_word2idx)"
   ]
  },
  {
   "cell_type": "markdown",
   "metadata": {},
   "source": [
    "### compute alpha"
   ]
  },
  {
   "cell_type": "code",
   "execution_count": 20,
   "metadata": {
    "collapsed": true
   },
   "outputs": [],
   "source": [
    "pubmed_counts = np.array(pubmed_wordlist)[:,1].astype(int)\n",
    "pubmed_words = np.array(pubmed_wordlist)[:,0]"
   ]
  },
  {
   "cell_type": "code",
   "execution_count": 21,
   "metadata": {},
   "outputs": [
    {
     "data": {
      "text/plain": [
       "16868"
      ]
     },
     "execution_count": 21,
     "metadata": {},
     "output_type": "execute_result"
    }
   ],
   "source": [
    "all_pivots = []\n",
    "for i in range(len(p_word2idx)):\n",
    "    word = p_idx2word[i]\n",
    "    if word in google_model_full:\n",
    "        all_pivots.append(word)\n",
    "len(all_pivots)"
   ]
  },
  {
   "cell_type": "code",
   "execution_count": 22,
   "metadata": {},
   "outputs": [
    {
     "data": {
      "text/plain": [
       "286136"
      ]
     },
     "execution_count": 22,
     "metadata": {},
     "output_type": "execute_result"
    }
   ],
   "source": [
    "pubmed_word_count = {}\n",
    "pubmed_total_count = []\n",
    "for word in all_pivots:\n",
    "    count = pubmed_counts[p_word2idx[word]]\n",
    "    pubmed_word_count[word] = count\n",
    "    pubmed_total_count.append(count)\n",
    "pubmed_min_count = np.min(np.array(pubmed_total_count))\n",
    "pubmed_max_count = np.max(np.array(pubmed_total_count))\n",
    "pubmed_sum_count = np.sum(np.array(pubmed_total_count))\n",
    "pubmed_max_count"
   ]
  },
  {
   "cell_type": "code",
   "execution_count": 23,
   "metadata": {},
   "outputs": [
    {
     "data": {
      "text/plain": [
       "2987308"
      ]
     },
     "execution_count": 23,
     "metadata": {},
     "output_type": "execute_result"
    }
   ],
   "source": [
    "google_word_count = {}\n",
    "google_total_count = []\n",
    "for word in all_pivots:\n",
    "    count = google_model_full.vocab[word].count - 12691\n",
    "    google_word_count[word] = count \n",
    "    google_total_count.append(count)\n",
    "google_min_count = np.min(np.array(google_total_count))\n",
    "google_max_count = np.max(np.array(google_total_count))\n",
    "google_sum_count = np.sum(np.array(google_total_count))\n",
    "google_max_count"
   ]
  },
  {
   "cell_type": "code",
   "execution_count": 28,
   "metadata": {},
   "outputs": [
    {
     "data": {
      "text/plain": [
       "[5.054691708528125e-07,\n",
       " 4.4261767562225884e-07,\n",
       " 3.9571782517455745e-07,\n",
       " 3.794917036170631e-07,\n",
       " 2.424588914085035e-07,\n",
       " 2.3669521198588228e-07,\n",
       " 1.7036348642918142e-07,\n",
       " 1.4757224375827604e-07,\n",
       " 1.4154507999020183e-07,\n",
       " 1.3710978985503885e-07]"
      ]
     },
     "execution_count": 28,
     "metadata": {},
     "output_type": "execute_result"
    }
   ],
   "source": [
    "pubmed_theta_word = []\n",
    "ffs = []\n",
    "fft = []\n",
    "for i in range(1,len(p_word2idx)):\n",
    "    word = p_idx2word[i]\n",
    "    if word in google_model_full:\n",
    "        f_s = google_word_count[word] / pubmed_sum_count\n",
    "        f_t = pubmed_word_count[word] / google_sum_count\n",
    "        theta_w = (2 * f_s * f_t)/(f_s +f_t) \n",
    "        #print(f_s, f_d, theta_w)\n",
    "        pubmed_theta_word.append(theta_w)\n",
    "    else:\n",
    "        pubmed_theta_word.append(0)      \n",
    "\n",
    "pubmed_theta_word = np.array(pubmed_theta_word)\n",
    "\n",
    "pubmed_alpha = []\n",
    "for i in pubmed_theta_word:\n",
    "    if i == 0:\n",
    "        pubmed_alpha.append(0)\n",
    "    else:\n",
    "        pubmed_alpha.append( (sigmoid(i)-0.5))\n",
    "np.save('pubmed_alpha.npy',pubmed_alpha)\n",
    "pubmed_alpha[:10]"
   ]
  },
  {
   "cell_type": "code",
   "execution_count": 43,
   "metadata": {},
   "outputs": [
    {
     "data": {
      "text/plain": [
       "array([0.00505469, 0.00442618, 0.00395718, ..., 0.        , 0.        ,\n",
       "       0.        ])"
      ]
     },
     "execution_count": 43,
     "metadata": {},
     "output_type": "execute_result"
    }
   ],
   "source": [
    "np.array(pubmed_alpha)*10000"
   ]
  },
  {
   "cell_type": "code",
   "execution_count": 35,
   "metadata": {
    "collapsed": true
   },
   "outputs": [],
   "source": [
    "pubmed_alpha_remove_zero = []\n",
    "for i in range(len(pubmed_alpha)):\n",
    "    if pubmed_alpha[i] != 0:\n",
    "        pubmed_alpha_remove_zero.append(pubmed_alpha[i])"
   ]
  },
  {
   "cell_type": "code",
   "execution_count": 36,
   "metadata": {},
   "outputs": [
    {
     "data": {
      "image/png": "[encoded data removed]",
      "text/plain": [
       "<matplotlib.figure.Figure at 0x1b552b9cf8>"
      ]
     },
     "metadata": {},
     "output_type": "display_data"
    }
   ],
   "source": [
    "fig = plt.figure(figsize=(20, 6))\n",
    "ax1 = plt.subplot(111)\n",
    "num = range(len(pubmed_alpha_remove_zero))\n",
    "ax1.plot(num,pubmed_alpha_remove_zero, linestyle='-',)\n",
    "ax1.legend(loc=0)\n",
    "plt.grid(True)\n",
    "plt.show()"
   ]
  },
  {
   "cell_type": "markdown",
   "metadata": {},
   "source": [
    "### select pivots"
   ]
  },
  {
   "cell_type": "code",
   "execution_count": 335,
   "metadata": {},
   "outputs": [
    {
     "name": "stdout",
     "output_type": "stream",
     "text": [
      "1 262 0.262\n",
      "2 609 0.3045\n",
      "3 984 0.328\n",
      "4 1334 0.3335\n",
      "5 1685 0.337\n",
      "6 2032 0.33866666666666667\n",
      "7 2354 0.3362857142857143\n",
      "8 2672 0.334\n",
      "9 2998 0.33311111111111114\n",
      "10 3314 0.3314\n",
      "11 3613 0.32845454545454544\n",
      "12 3898 0.3248333333333333\n",
      "13 4178 0.3213846153846154\n",
      "14 4448 0.3177142857142857\n",
      "15 4718 0.31453333333333333\n",
      "16 4973 0.3108125\n",
      "17 5189 0.30523529411764705\n",
      "18 5458 0.3032222222222222\n",
      "19 5703 0.3001578947368421\n",
      "20 5898 0.2949\n",
      "21 6140 0.2923809523809524\n",
      "22 6353 0.2887727272727273\n",
      "23 6605 0.2871739130434783\n",
      "24 6779 0.2824583333333333\n",
      "25 7002 0.28008\n"
     ]
    }
   ],
   "source": [
    "pubmed_size = []\n",
    "pubmed_rate = []\n",
    "pubmed_pivots = {}\n",
    "for i in indice:\n",
    "    size = 0\n",
    "    pubmed_pivots[i] = []\n",
    "    quora_subset = np.array(pubmed_wordlist)[0:i*1000]\n",
    "    for word in quora_subset:\n",
    "        if word in google_mode_subset[i]:\n",
    "            pubmed_pivots[i].append(word)\n",
    "            size +=1\n",
    "    pubmed_size.append(size)\n",
    "    pubmed_rate.append(size/(i*1000))\n",
    "    print(i,size,size/(i*1000))"
   ]
  },
  {
   "cell_type": "code",
   "execution_count": 333,
   "metadata": {},
   "outputs": [
    {
     "data": {
      "text/plain": [
       "27188"
      ]
     },
     "execution_count": 333,
     "metadata": {},
     "output_type": "execute_result"
    }
   ],
   "source": [
    "w2v_pubmed_google_50d = np.load('/Users/zhang/MscProject_tweak2vec/word2vecModel/pubmed/w2v_pubmedgoogle_50d.npy')\n",
    "len(w2v_pubmed_google_50d)"
   ]
  },
  {
   "cell_type": "code",
   "execution_count": 337,
   "metadata": {},
   "outputs": [
    {
     "name": "stdout",
     "output_type": "stream",
     "text": [
      "262\n",
      "3314\n",
      "5898\n"
     ]
    }
   ],
   "source": [
    "embed_with_pivots = {}\n",
    "for p_num in [1,10,20]:\n",
    "    embed_with_pivots[p_num] = {}\n",
    "    for i in range(len(p_idx2word)):\n",
    "        w = p_idx2word[i]\n",
    "        if w in pubmed_pivots[p_num]:\n",
    "            embed_with_pivots[p_num][i] = w2v_pubmed_google_50d[i]\n",
    "    print(len(embed_with_pivots[p_num]))\n",
    "    f = open('pubmed_pivot_'+str(p_num)+'.txt','w')  \n",
    "    f.write(str(embed_with_pivots[p_num]))\n",
    "    f.close()  "
   ]
  },
  {
   "cell_type": "code",
   "execution_count": 293,
   "metadata": {},
   "outputs": [
    {
     "data": {
      "image/png": "[encoded data removed]",
      "text/plain": [
       "<matplotlib.figure.Figure at 0x1a4d403e48>"
      ]
     },
     "metadata": {},
     "output_type": "display_data"
    }
   ],
   "source": [
    "fig = plt.figure(figsize=(12, 6))\n",
    "ax1 = plt.subplot(111)\n",
    "model_num = range(1,26)\n",
    "ax1.plot(model_num,pubmed_rate, linestyle='-')\n",
    "ax1.legend(loc=0)\n",
    "ax1.set_xlabel('subset vocabualry size (k words)')\n",
    "ax1.set_ylabel('overlapping ratio')\n",
    "plt.annotate(984,xy=(3,pubmed_rate[2]),xytext=(2.5,pubmed_rate[2]))\n",
    "plt.annotate(2032,xy=(6,pubmed_rate[5]),xytext=(5.5,pubmed_rate[5]))\n",
    "plt.annotate(2998,xy=(9,pubmed_rate[8]),xytext=(8.5,pubmed_rate[8]))\n",
    "plt.annotate(4973,xy=(16,pubmed_rate[15]),xytext=(15.5,pubmed_rate[15]))\n",
    "plt.annotate(7002,xy=(25,pubmed_rate[24]),xytext=(24.5,pubmed_rate[24]))\n",
    "plt.xticks(model_num)\n",
    "plt.grid(True)\n",
    "#ax1.set_title('word emeddings trained on full Quora corpus use 100 pivots')\n",
    "#plt.ylim(0.78,0.81)\n",
    "plt.show()\n",
    "fig.savefig(\"pubmed_overlap.pdf\")"
   ]
  },
  {
   "cell_type": "code",
   "execution_count": null,
   "metadata": {
    "collapsed": true
   },
   "outputs": [],
   "source": []
  },
  {
   "cell_type": "code",
   "execution_count": null,
   "metadata": {
    "collapsed": true
   },
   "outputs": [],
   "source": []
  },
  {
   "cell_type": "code",
   "execution_count": null,
   "metadata": {
    "collapsed": true
   },
   "outputs": [],
   "source": []
  },
  {
   "cell_type": "code",
   "execution_count": null,
   "metadata": {
    "collapsed": true
   },
   "outputs": [],
   "source": []
  },
  {
   "cell_type": "code",
   "execution_count": 64,
   "metadata": {
    "collapsed": true
   },
   "outputs": [],
   "source": [
    "import matplotlib.pyplot as plt"
   ]
  },
  {
   "cell_type": "code",
   "execution_count": 63,
   "metadata": {
    "collapsed": true
   },
   "outputs": [],
   "source": [
    "quora_vocab_frq = np.load('/Users/zhang/MscProject_tweak2vec/corpus/quora_vocab5.npy')\n",
    "pubmed_vocab_frq = np.load('/Users/zhang/MscProject_tweak2vec/corpus/pubmed_vocab5_frq.npy')"
   ]
  },
  {
   "cell_type": "code",
   "execution_count": 103,
   "metadata": {
    "collapsed": true
   },
   "outputs": [],
   "source": [
    "quora_frq = []\n",
    "for i in range(len(quora_vocab_frq)):\n",
    "    quora_frq.append(int(quora_vocab_frq[i][1])//10)"
   ]
  },
  {
   "cell_type": "code",
   "execution_count": 105,
   "metadata": {},
   "outputs": [
    {
     "data": {
      "image/png": "[encoded data removed]",
      "text/plain": [
       "<matplotlib.figure.Figure at 0x1b420d07b8>"
      ]
     },
     "metadata": {},
     "output_type": "display_data"
    }
   ],
   "source": [
    "# the histogram of the data\n",
    "n, bins, patches = plt.hist(quora_frq, 20000, density=True, facecolor='g', alpha=0.75)\n",
    "\n",
    "\n",
    "plt.xlabel('Word Count')\n",
    "plt.ylabel('Probability')\n",
    "plt.title('Distriution of word count')\n",
    "plt.axis([0, 150, 0, 0.08])\n",
    "plt.grid(True)\n",
    "plt.show()"
   ]
  }
 ],
 "metadata": {
  "kernelspec": {
   "display_name": "Python 3",
   "language": "python",
   "name": "python3"
  },
  "language_info": {
   "codemirror_mode": {
    "name": "ipython",
    "version": 3
   },
   "file_extension": ".py",
   "mimetype": "text/x-python",
   "name": "python",
   "nbconvert_exporter": "python",
   "pygments_lexer": "ipython3",
   "version": "3.6.3"
  }
 },
 "nbformat": 4,
 "nbformat_minor": 2
}
