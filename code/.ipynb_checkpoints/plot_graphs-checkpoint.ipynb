{
 "cells": [
  {
   "cell_type": "code",
   "execution_count": 36,
   "metadata": {
    "collapsed": true
   },
   "outputs": [],
   "source": [
    "import numpy as np\n",
    "import matplotlib.pyplot as plt"
   ]
  },
  {
   "cell_type": "markdown",
   "metadata": {},
   "source": [
    "### quora"
   ]
  },
  {
   "cell_type": "code",
   "execution_count": 3,
   "metadata": {
    "collapsed": true
   },
   "outputs": [],
   "source": [
    "def get_data(filename):\n",
    "    f = open(filename)\n",
    "    train_los = []\n",
    "    train_acc = []\n",
    "    val_los = []\n",
    "    val_acc = []\n",
    "    i = 1\n",
    "    for line in f:    \n",
    "        if i%2==0:\n",
    "            data = line.split()\n",
    "            train_los.append(float(data[4]))\n",
    "            train_acc.append(float(data[7]))\n",
    "            val_los.append(float(data[10]))\n",
    "            val_acc.append(float(data[13]))\n",
    "        i = i+1\n",
    "    return train_los, train_acc, val_los, val_acc"
   ]
  },
  {
   "cell_type": "code",
   "execution_count": 1,
   "metadata": {
    "collapsed": true
   },
   "outputs": [],
   "source": [
    "# results['google pretrain 50d'] = get_data('/Users/zhang/MscProject_tweak2vec/data/quora/1_pretrain_50d.txt')\n",
    "# results['google retrain'] = get_data('/Users/zhang/MscProject_tweak2vec/data/quora/1_retrain_50d.txt')\n",
    "\n",
    "# results['quora corpus 46m'] = get_data('/Users/zhang/MscProject_tweak2vec/data/quora/2_quora_50d.txt')\n",
    "# results['100 pivots 46m'] = get_data('/Users/zhang/MscProject_tweak2vec/data/quora/3_pivots100_50d_00001.txt')\n",
    "# results['300 pivots 46m'] = get_data('/Users/zhang/MscProject_tweak2vec/data/quora/3_pivots300_50d_46m.txt')\n",
    "# results['500 pivots 46m'] = get_data('/Users/zhang/MscProject_tweak2vec/data/quora/3_pivots500_50d_46m.txt')\n",
    "\n",
    "# results['quora corpus 10m'] = get_data('/Users/zhang/MscProject_tweak2vec/data/quora/2_quora_50d_10m.txt')\n",
    "# results['100 pivots 10m'] = get_data('/Users/zhang/MscProject_tweak2vec/data/quora/3_pivots100_50d_10m.txt')\n",
    "# results['500 pivots 10m'] = get_data('/Users/zhang/MscProject_tweak2vec/data/quora/3_pivots500_50d_10m.txt')\n",
    "\n",
    "# results['quora corpus 5m'] = get_data('/Users/zhang/MscProject_tweak2vec/data/quora/2_quora_50d_5m.txt')\n",
    "# results['100 pivots 5m'] = get_data('/Users/zhang/MscProject_tweak2vec/data/quora/3_pivots100_50d_5m.txt')\n",
    "# results['500 pivots 5m'] = get_data('/Users/zhang/MscProject_tweak2vec/data/quora/3_pivots500_50d_5m.txt')\n",
    "\n",
    "# results['quora corpus 1m'] = get_data('/Users/zhang/MscProject_tweak2vec/data/quora/2_quora_50d_1m.txt')\n",
    "# results['100 pivots 1m'] = get_data('/Users/zhang/MscProject_tweak2vec/data/quora/3_pivots100_50d_1m.txt')\n",
    "# results['500 pivots 1m'] = get_data('/Users/zhang/MscProject_tweak2vec/data/quora/3_pivots500_50d_1m.txt')\n",
    "\n",
    "# results['100 pivots reg=0.1'] = get_data('/Users/zhang/MscProject_tweak2vec/data/quora/3_pivots100_50d_01.txt')\n",
    "# results['100 pivots reg=0.01'] = get_data('/Users/zhang/MscProject_tweak2vec/data/quora/3_pivots100_50d_001.txt')\n",
    "# results['100 pivots reg=0.001'] = get_data('/Users/zhang/MscProject_tweak2vec/data/quora/3_pivots100_50d_0001.txt')\n",
    "\n",
    "\n",
    "# results['vec concatenate 46m'] = get_data('/Users/zhang/MscProject_tweak2vec/data/quora/4_concat_50d.txt')\n",
    "# results['vec concatenate 10m'] = get_data('/Users/zhang/MscProject_tweak2vec/data/quora/4_concat_50d_10m.txt')\n",
    "# results['vec concatenate 5m'] = get_data('/Users/zhang/MscProject_tweak2vec/data/quora/4_concat_50d_5m.txt')\n",
    "# results['vec concatenate 1m'] = get_data('/Users/zhang/MscProject_tweak2vec/data/quora/4_concat_50d_1m.txt')\n",
    "\n",
    "# results['vec average 46m'] = get_data('/Users/zhang/MscProject_tweak2vec/data/quora/5_avg_50d.txt')"
   ]
  },
  {
   "cell_type": "code",
   "execution_count": 18,
   "metadata": {
    "collapsed": true
   },
   "outputs": [],
   "source": [
    "def read_results(filename):\n",
    "    f = open(filename)\n",
    "    a = f.read()\n",
    "    results = eval(a)\n",
    "    f.close()\n",
    "    return results\n",
    "\n",
    "f_q = '/Users/zhang/MscProject_tweak2vec/word2vecModel/quora_data.txt'\n",
    "f_p1 = '/Users/zhang/MscProject_tweak2vec/word2vecModel/pivots100_data.txt'\n",
    "f_p3 = '/Users/zhang/MscProject_tweak2vec/word2vecModel/pivots300_data.txt'\n",
    "results_q = read_results(f_q)\n",
    "results_p1 = read_results(f_p1)\n",
    "results_p3 = read_results(f_p3)"
   ]
  },
  {
   "cell_type": "code",
   "execution_count": 35,
   "metadata": {
    "scrolled": true
   },
   "outputs": [
    {
     "data": {
      "text/plain": [
       "0.7984389600395757"
      ]
     },
     "execution_count": 35,
     "metadata": {},
     "output_type": "execute_result"
    }
   ],
   "source": [
    "np.max(results_p1['pivots100_2m']['val_acc'])"
   ]
  },
  {
   "cell_type": "code",
   "execution_count": 11,
   "metadata": {
    "collapsed": true
   },
   "outputs": [],
   "source": [
    "val_acc_q = []\n",
    "for model in results_q.keys():\n",
    "    val_acc_q.append(np.max(np.array(results_q[model]['val_acc'])))\n",
    "val_acc_q.reverse()"
   ]
  },
  {
   "cell_type": "code",
   "execution_count": 13,
   "metadata": {
    "collapsed": true
   },
   "outputs": [],
   "source": [
    "val_acc_p3 = []\n",
    "for model in results_p3.keys():\n",
    "    val_acc_p3.append(np.max(np.array(results_p3[model]['val_acc'])))\n",
    "val_acc_p3.reverse()"
   ]
  },
  {
   "cell_type": "code",
   "execution_count": 19,
   "metadata": {
    "collapsed": true
   },
   "outputs": [],
   "source": [
    "val_acc_p1 = []\n",
    "for model in results_p1.keys():\n",
    "    val_acc_p1.append(np.max(np.array(results_p1[model]['val_acc'])))\n",
    "val_acc_p1.reverse()"
   ]
  },
  {
   "cell_type": "code",
   "execution_count": 23,
   "metadata": {},
   "outputs": [
    {
     "data": {
      "text/plain": [
       "[0.6871873797614467,\n",
       " 0.7834331885890178,\n",
       " 0.7855768702248117,\n",
       " 0.790633760237454,\n",
       " 0.7914857362721927,\n",
       " 0.799730665640631,\n",
       " 0.7995108008574726,\n",
       " 0.8025339416259001,\n",
       " 0.7983839938437861,\n",
       " 0.8035508162480075,\n",
       " 0.8050349035343264]"
      ]
     },
     "execution_count": 23,
     "metadata": {},
     "output_type": "execute_result"
    }
   ],
   "source": [
    "val_acc_p3"
   ]
  },
  {
   "cell_type": "code",
   "execution_count": 21,
   "metadata": {},
   "outputs": [
    {
     "data": {
      "text/plain": [
       "[0.7255537844225801,\n",
       " 0.7855768702248117,\n",
       " 0.7843676139174408,\n",
       " 0.7915956686637717,\n",
       " 0.7954707854669378,\n",
       " 0.7984389600395757,\n",
       " 0.7971197713406255,\n",
       " 0.8028912218985323,\n",
       " 0.8003352937943164,\n",
       " 0.8032485021711647,\n",
       " 0.8040729951080086]"
      ]
     },
     "execution_count": 21,
     "metadata": {},
     "output_type": "execute_result"
    }
   ],
   "source": [
    "val_acc_p1"
   ]
  },
  {
   "cell_type": "code",
   "execution_count": 61,
   "metadata": {},
   "outputs": [
    {
     "data": {
      "image/png": "[encoded data removed]",
      "text/plain": [
       "<matplotlib.figure.Figure at 0x1128ca128>"
      ]
     },
     "metadata": {},
     "output_type": "display_data"
    }
   ],
   "source": [
    "fig = plt.figure(figsize=(12, 6))\n",
    "ax1 = plt.subplot(111)\n",
    "model_num = 11\n",
    "ax1.plot(np.arange(model_num),val_acc_q, linestyle='-',label='quora')\n",
    "ax1.plot(np.arange(model_num),val_acc_p1, linestyle='-',label='pivots 100')\n",
    "ax1.plot(np.arange(model_num),val_acc_p3, linestyle='-',label='pivots 300')\n",
    "ax1.legend(loc=0)\n",
    "ax1.set_xlabel('Epoch number')\n",
    "ax1.set_ylabel('Validation Accuarcy')\n",
    "plt.ylim(0.78,0.81)\n",
    "plt.show()"
   ]
  },
  {
   "cell_type": "markdown",
   "metadata": {
    "collapsed": true
   },
   "source": [
    "### pubmed"
   ]
  },
  {
   "cell_type": "code",
   "execution_count": 74,
   "metadata": {},
   "outputs": [
    {
     "data": {
      "text/plain": [
       "0.77555275"
      ]
     },
     "execution_count": 74,
     "metadata": {},
     "output_type": "execute_result"
    }
   ],
   "source": [
    "google_result_val = np.load('/Users/zhang/MscProject_tweak2vec/data/pubmed/google_val_acc.npy')\n",
    "np.max(google_result_val)"
   ]
  },
  {
   "cell_type": "code",
   "execution_count": 49,
   "metadata": {
    "collapsed": true
   },
   "outputs": [],
   "source": [
    "pub_result_val = {}\n",
    "pub_result_val['pubmed 3m'] = np.load('/Users/zhang/MscProject_tweak2vec/data/pubmed/pubmed_3m_val_acc.npy')\n",
    "pub_result_val['pubmed 2m'] = np.load('/Users/zhang/MscProject_tweak2vec/data/pubmed/pubmed_2m_val_acc.npy')\n",
    "pub_result_val['pubmed 1m'] = np.load('/Users/zhang/MscProject_tweak2vec/data/pubmed/pubmed_1m_val_acc.npy')\n",
    "pub_result_val['pubmed 05m'] = np.load('/Users/zhang/MscProject_tweak2vec/data/pubmed/pubmed_05m_val_acc.npy')\n",
    "pub_result_val['pubmed 01m'] = np.load('/Users/zhang/MscProject_tweak2vec/data/pubmed/pubmed_01m_val_acc.npy')\n",
    "pub_result_val['pubmed 005m'] = np.load('/Users/zhang/MscProject_tweak2vec/data/pubmed/pubmed_005m_val_acc.npy')\n",
    "pub_result_val['pubmed 001m'] = np.load('/Users/zhang/MscProject_tweak2vec/data/pubmed/pubmed_001m_val_acc.npy')"
   ]
  },
  {
   "cell_type": "code",
   "execution_count": 63,
   "metadata": {},
   "outputs": [],
   "source": [
    "pivots100_result_val = {}\n",
    "pivots100_result_val['pubmed 3m'] = np.load('/Users/zhang/MscProject_tweak2vec/data/pubmed/pivots100_3m_val_acc.npy')\n",
    "pivots100_result_val['pubmed 2m'] = np.load('/Users/zhang/MscProject_tweak2vec/data/pubmed/pivots100_2m_val_acc.npy')\n",
    "pivots100_result_val['pubmed 1m'] = np.load('/Users/zhang/MscProject_tweak2vec/data/pubmed/pivots100_1m_val_acc.npy')\n",
    "pivots100_result_val['pubmed 05m'] = np.load('/Users/zhang/MscProject_tweak2vec/data/pubmed/pivots100_05m_val_acc.npy')\n",
    "pivots100_result_val['pubmed 01m'] = np.load('/Users/zhang/MscProject_tweak2vec/data/pubmed/pivots100_01m_val_acc.npy')\n",
    "pivots100_result_val['pubmed 005m'] = np.load('/Users/zhang/MscProject_tweak2vec/data/pubmed/pivots100_005m_val_acc.npy')\n",
    "pivots100_result_val['pubmed 001m'] = np.load('/Users/zhang/MscProject_tweak2vec/data/pubmed/pivots100_001m_val_acc.npy')"
   ]
  },
  {
   "cell_type": "code",
   "execution_count": 76,
   "metadata": {
    "collapsed": true
   },
   "outputs": [],
   "source": [
    "pivots500_result_val = {}\n",
    "pivots500_result_val['pubmed 3m'] = np.load('/Users/zhang/MscProject_tweak2vec/data/pubmed/pivots500_3m_val_acc.npy')\n",
    "pivots500_result_val['pubmed 2m'] = np.load('/Users/zhang/MscProject_tweak2vec/data/pubmed/pivots500_2m_val_acc.npy')\n",
    "pivots500_result_val['pubmed 1m'] = np.load('/Users/zhang/MscProject_tweak2vec/data/pubmed/pivots500_1m_val_acc.npy')\n",
    "pivots500_result_val['pubmed 05m'] = np.load('/Users/zhang/MscProject_tweak2vec/data/pubmed/pivots500_05m_val_acc.npy')\n",
    "pivots500_result_val['pubmed 01m'] = np.load('/Users/zhang/MscProject_tweak2vec/data/pubmed/pivots500_01m_val_acc.npy')\n",
    "pivots500_result_val['pubmed 005m'] = np.load('/Users/zhang/MscProject_tweak2vec/data/pubmed/pivots500_005m_val_acc.npy')\n",
    "pivots500_result_val['pubmed 001m'] = np.load('/Users/zhang/MscProject_tweak2vec/data/pubmed/pivots500_001m_val_acc.npy')"
   ]
  },
  {
   "cell_type": "code",
   "execution_count": 73,
   "metadata": {},
   "outputs": [
    {
     "data": {
      "text/plain": [
       "[0.7262346,\n",
       " 0.73080236,\n",
       " 0.72987556,\n",
       " 0.75324374,\n",
       " 0.7774394,\n",
       " 0.78283465,\n",
       " 0.78697205]"
      ]
     },
     "execution_count": 73,
     "metadata": {},
     "output_type": "execute_result"
    }
   ],
   "source": [
    "pubmed_acc = []\n",
    "for key in pub_result_val.keys():\n",
    "    pubmed_acc.append(np.max(pub_result_val[key]))\n",
    "pubmed_acc.reverse()\n",
    "pubmed_acc"
   ]
  },
  {
   "cell_type": "code",
   "execution_count": 72,
   "metadata": {},
   "outputs": [
    {
     "data": {
      "text/plain": [
       "[0.72342116, 0.7291474, 0.7412617, 0.7591354, 0.77598304, 0.7846551, 0.7894876]"
      ]
     },
     "execution_count": 72,
     "metadata": {},
     "output_type": "execute_result"
    }
   ],
   "source": [
    "pivots100_acc = []\n",
    "for key in pivots100_result_val.keys():\n",
    "    pivots100_acc.append(np.max(pivots100_result_val[key]))\n",
    "pivots100_acc.reverse()\n",
    "pivots100_acc"
   ]
  },
  {
   "cell_type": "code",
   "execution_count": 77,
   "metadata": {},
   "outputs": [
    {
     "data": {
      "text/plain": [
       "[0.7332186, 0.7400371, 0.74728584, 0.77234215, 0.783298, 0.792268, 0.79835826]"
      ]
     },
     "execution_count": 77,
     "metadata": {},
     "output_type": "execute_result"
    }
   ],
   "source": [
    "pivots500_acc = []\n",
    "for key in pivots500_result_val.keys():\n",
    "    pivots500_acc.append(np.max(pivots500_result_val[key]))\n",
    "pivots500_acc.reverse()\n",
    "pivots500_acc"
   ]
  },
  {
   "cell_type": "code",
   "execution_count": 78,
   "metadata": {},
   "outputs": [
    {
     "data": {
      "image/png": "[encoded data removed]",
      "text/plain": [
       "<matplotlib.figure.Figure at 0x111d651d0>"
      ]
     },
     "metadata": {},
     "output_type": "display_data"
    }
   ],
   "source": [
    "fig = plt.figure(figsize=(8, 4))\n",
    "ax1 = plt.subplot(111)\n",
    "model_num = [0.01,0.05,0.1,0.5,1,2,3]\n",
    "\n",
    "ax1.plot(model_num,pubmed_acc, linestyle='-', label='pubmed corpus')\n",
    "ax1.plot(model_num,pivots100_acc, linestyle='-', label='100 pivots')\n",
    "ax1.plot(model_num,pivots500_acc, linestyle='-', label='500 pivots')\n",
    "ax1.plot(model_num,np.ones(7) * np.max(google_result_val), linestyle='-', label='google pretrain')\n",
    "ax1.legend(loc=0)\n",
    "plt.xticks(model_num)\n",
    "ax1.set_xlabel('Tokens number')\n",
    "ax1.set_ylabel('Validation Accuarcy')\n",
    "#plt.ylim(0.74,0.79)\n",
    "plt.show()"
   ]
  }
 ],
 "metadata": {
  "kernelspec": {
   "display_name": "Python 3",
   "language": "python",
   "name": "python3"
  },
  "language_info": {
   "codemirror_mode": {
    "name": "ipython",
    "version": 3
   },
   "file_extension": ".py",
   "mimetype": "text/x-python",
   "name": "python",
   "nbconvert_exporter": "python",
   "pygments_lexer": "ipython3",
   "version": "3.6.3"
  }
 },
 "nbformat": 4,
 "nbformat_minor": 2
}
