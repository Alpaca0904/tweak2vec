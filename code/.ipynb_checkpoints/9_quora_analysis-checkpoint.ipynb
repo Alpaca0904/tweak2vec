{
 "cells": [
  {
   "cell_type": "code",
   "execution_count": null,
   "metadata": {},
   "outputs": [
    {
     "name": "stderr",
     "output_type": "stream",
     "text": [
      "/Users/zhang/anaconda/envs/mlp/lib/python3.6/site-packages/h5py/__init__.py:36: FutureWarning: Conversion of the second argument of issubdtype from `float` to `np.floating` is deprecated. In future, it will be treated as `np.float64 == np.dtype(float).type`.\n",
      "  from ._conv import register_converters as _register_converters\n"
     ]
    }
   ],
   "source": [
    "import numpy as np\n",
    "import pandas as pd\n",
    "from sklearn.neighbors import KDTree\n",
    "import datetime, time, json\n",
    "import tensorflow as tf\n",
    "from sklearn.model_selection import train_test_split\n",
    "from keras.models import Model\n",
    "from keras.layers import Input, TimeDistributed, Dense, Lambda, concatenate, Dropout, BatchNormalization\n",
    "from keras.layers.embeddings import Embedding\n",
    "from keras.regularizers import l2\n",
    "from keras.callbacks import Callback, ModelCheckpoint, History\n",
    "from keras import backend as K\n",
    "from keras.preprocessing.sequence import pad_sequences\n",
    "import pandas as pd"
   ]
  },
  {
   "cell_type": "code",
   "execution_count": 2,
   "metadata": {
    "collapsed": true
   },
   "outputs": [],
   "source": [
    "train_pairs = pd.read_csv('/Users/zhang/MscProject_tweak2vec/QuoraQuestionPairs/train.csv',encoding='ISO-8859-1')"
   ]
  },
  {
   "cell_type": "code",
   "execution_count": 3,
   "metadata": {
    "collapsed": true
   },
   "outputs": [],
   "source": [
    "wordlist = np.load('/Users/zhang/MscProject_tweak2vec/corpus/quora_vocab5.npy').tolist()\n",
    "wordlist.append(['UNK',0])\n",
    "word2idx = {w[0]: wordlist.index(w) for w in wordlist }\n",
    "idx2word = {wordlist.index(w): w[0] for w in wordlist }"
   ]
  },
  {
   "cell_type": "code",
   "execution_count": 32,
   "metadata": {
    "collapsed": true
   },
   "outputs": [],
   "source": [
    "embed_seg = np.load('/Users/zhang/MscProject_tweak2vec/word2vecModel/quora/tokens/w2v_pivotsfull_5m.npy')\n",
    "embed_bas = np.load('/Users/zhang/MscProject_tweak2vec/word2vecModel/quora/tokens/w2v_quora_5m.npy')\n",
    "embed_pre = np.load('/Users/zhang/MscProject_tweak2vec/word2vecModel/quora/tokens/w2v_quoragoogle_50d.npy')"
   ]
  },
  {
   "cell_type": "code",
   "execution_count": 30,
   "metadata": {
    "collapsed": true
   },
   "outputs": [],
   "source": [
    "def K_neighbour(embed_set, word, k):\n",
    "    tree = KDTree(embed_set, leaf_size=100)\n",
    "    vec = embed_set[word2idx[word]]\n",
    "    dists, inds = tree.query([vec], k)\n",
    "    inds = inds.reshape(k,)\n",
    "    near_words = [idx2word[i] for i in list(inds)]\n",
    "    return near_words"
   ]
  },
  {
   "cell_type": "code",
   "execution_count": 34,
   "metadata": {},
   "outputs": [
    {
     "name": "stdout",
     "output_type": "stream",
     "text": [
      "SEG----- ['question', 'answer', 'questions', 'here', 'something', 'simply']\n",
      "BAS----- ['question', 'answer', 'quora', 'questions', 'answers', 'anonymous']\n",
      "PRE----- ['question', 'why', 'matter', 'answer', 'reason', 'it']\n"
     ]
    }
   ],
   "source": [
    "w = 'question'\n",
    "near_words_seg = K_neighbour(embed_seg, w, 6)\n",
    "near_words_bas = K_neighbour(embed_bas, w, 6)\n",
    "near_words_pre = K_neighbour(embed_pre, w, 6)\n",
    "print('SEG-----',near_words_seg)\n",
    "print('BAS-----',near_words_bas)\n",
    "print('PRE-----',near_words_pre)"
   ]
  },
  {
   "cell_type": "code",
   "execution_count": 4,
   "metadata": {
    "collapsed": true
   },
   "outputs": [],
   "source": [
    "def Max_BoE(word_embedding):\n",
    "\n",
    "    question1 = Input(shape=(max_sentence_len,))\n",
    "    question2 = Input(shape=(max_sentence_len,))\n",
    "\n",
    "\n",
    "\n",
    "    q1 = Embedding(  input_dim=vocab_size, \n",
    "                     output_dim=embed_dim, \n",
    "                     weights=[word_embedding], \n",
    "                     input_length=max_sentence_len, \n",
    "                     trainable=False)(question1)\n",
    "    q1 = TimeDistributed(Dense(embed_dim, activation='relu'))(q1)\n",
    "    q1 = Lambda(lambda x: K.max(x, axis=1), output_shape=(embed_dim, ))(q1)\n",
    "\n",
    "    q2 = Embedding(  input_dim=vocab_size, \n",
    "                     output_dim=embed_dim, \n",
    "                     weights=[word_embedding], \n",
    "                     input_length=max_sentence_len, \n",
    "                     trainable=False)(question2)\n",
    "    q2 = TimeDistributed(Dense(embed_dim, activation='relu'))(q2)\n",
    "    q2 = Lambda(lambda x: K.max(x, axis=1), output_shape=(embed_dim, ))(q2)\n",
    "\n",
    "    merged = concatenate([q1,q2])\n",
    "    merged = Dense(200, activation='relu')(merged)\n",
    "    merged = Dropout(dropout_rate)(merged)\n",
    "    merged = BatchNormalization()(merged)\n",
    "    merged = Dense(200, activation='relu')(merged)\n",
    "    merged = Dropout(dropout_rate)(merged)\n",
    "    merged = BatchNormalization()(merged)\n",
    "    merged = Dense(200, activation='relu')(merged)\n",
    "    merged = Dropout(dropout_rate)(merged)\n",
    "    merged = BatchNormalization()(merged)\n",
    "    merged = Dense(200, activation='relu')(merged)\n",
    "    merged = Dropout(dropout_rate)(merged)\n",
    "    merged = BatchNormalization()(merged)\n",
    "\n",
    "    is_duplicate = Dense(1, activation='sigmoid')(merged)\n",
    "\n",
    "    model = Model(inputs=[question1,question2], outputs=is_duplicate)\n",
    "    model.compile(loss='binary_crossentropy', optimizer='adam', metrics=['accuracy'])\n",
    "    \n",
    "    return model"
   ]
  },
  {
   "cell_type": "code",
   "execution_count": 7,
   "metadata": {
    "collapsed": true
   },
   "outputs": [],
   "source": [
    "current_embed = np.load(\"/Users/zhang/MscProject_tweak2vec/word2vecModel/quora/tokens/w2v_cat_reg_5m.npy\")"
   ]
  },
  {
   "cell_type": "code",
   "execution_count": 14,
   "metadata": {
    "collapsed": true
   },
   "outputs": [],
   "source": [
    "quora_corpus = np.load(\"/Users/zhang/MscProject_tweak2vec/corpus/quora_corpus_int5.npy\")\n",
    "labels = np.load(\"/Users/zhang/MscProject_tweak2vec/corpus/quora_labels.npy\")\n",
    "question1 = []\n",
    "question2 = []\n",
    "for n in range(int(len(quora_corpus)/2)):\n",
    "    question1.append(quora_corpus[2*n])\n",
    "    question2.append(quora_corpus[2*n+1])\n",
    "    \n",
    "# hyperparameter setup\n",
    "max_sentence_len = 25\n",
    "embed_dim = 50\n",
    "dropout_rate = 0.1\n",
    "vocab_size = len(current_embed)\n",
    "    \n",
    "q1_data = pad_sequences(question1, maxlen=25)\n",
    "q2_data = pad_sequences(question2, maxlen=25)\n",
    "questions = np.stack((q1_data, q2_data), axis=1)\n",
    "X_train, X_test, y_train, y_test = train_test_split(questions, labels, test_size=0.1, random_state=2018)\n",
    "Q1_train = X_train[:,0]\n",
    "Q2_train = X_train[:,1]\n",
    "Q1_test = X_test[:,0]\n",
    "Q2_test = X_test[:,1]"
   ]
  },
  {
   "cell_type": "code",
   "execution_count": 15,
   "metadata": {},
   "outputs": [
    {
     "name": "stdout",
     "output_type": "stream",
     "text": [
      "loss = 0.4198, accuracy = 0.7981\n"
     ]
    }
   ],
   "source": [
    "MODEL_WEIGHTS_FILE = '/Users/zhang/MscProject_tweak2vec/Max_BOE_weights/quora_5m_weights.h5'\n",
    "model = Max_BoE(current_embed)\n",
    "model.load_weights(MODEL_WEIGHTS_FILE)\n",
    "loss, accuracy = model.evaluate([Q1_test, Q2_test], y_test, verbose=0)\n",
    "pred_y = model.predict([Q1_test, Q2_test], verbose=0)\n",
    "print('loss = {0:.4f}, accuracy = {1:.4f}'.format(loss, accuracy))"
   ]
  },
  {
   "cell_type": "code",
   "execution_count": null,
   "metadata": {},
   "outputs": [],
   "source": [
    "acc_y = np.abs(pred_y - y_test)\n",
    "acc_y"
   ]
  }
 ],
 "metadata": {
  "kernelspec": {
   "display_name": "Python 3",
   "language": "python",
   "name": "python3"
  },
  "language_info": {
   "codemirror_mode": {
    "name": "ipython",
    "version": 3
   },
   "file_extension": ".py",
   "mimetype": "text/x-python",
   "name": "python",
   "nbconvert_exporter": "python",
   "pygments_lexer": "ipython3",
   "version": "3.6.3"
  }
 },
 "nbformat": 4,
 "nbformat_minor": 2
}
