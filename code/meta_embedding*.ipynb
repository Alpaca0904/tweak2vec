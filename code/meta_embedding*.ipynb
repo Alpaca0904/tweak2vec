{
 "cells": [
  {
   "cell_type": "code",
   "execution_count": 35,
   "metadata": {
    "collapsed": true
   },
   "outputs": [],
   "source": [
    "import numpy as np\n",
    "from numpy import linalg\n",
    "# PCA+visualization\n",
    "from sklearn.decomposition import PCA\n",
    "import pandas as pd\n",
    "import matplotlib.pyplot as plt\n",
    "pca = PCA(n_components=2)"
   ]
  },
  {
   "cell_type": "code",
   "execution_count": 44,
   "metadata": {
    "collapsed": true
   },
   "outputs": [],
   "source": [
    "def centered(A):\n",
    "    return A-np.mean(A, axis=0)\n",
    "\n",
    "def sum_of_outer_product(A, B):\n",
    "    C = np.zeros((A.shape[1],A.shape[1]))\n",
    "    for a, b in zip(A,B):\n",
    "        C = C + np.outer(a, b)\n",
    "    return C\n",
    "\n",
    "def AO_Rotation(A, B): \n",
    "    # rotate B\n",
    "    A_h = centered(A)\n",
    "    B_h = centered(B)\n",
    "    H = sum_of_outer_product(B_h,A_h)\n",
    "    U,S,VT=linalg.svd(H)\n",
    "    R = np.dot(U,VT)\n",
    "    return np.dot(B,R)\n",
    "    "
   ]
  },
  {
   "cell_type": "code",
   "execution_count": 64,
   "metadata": {
    "collapsed": true,
    "scrolled": true
   },
   "outputs": [],
   "source": [
    "google_pivot_vec = AO_Rotation(stack_pivot_vec, google_pivot_vec)"
   ]
  },
  {
   "cell_type": "code",
   "execution_count": 50,
   "metadata": {},
   "outputs": [],
   "source": [
    "w2v_google_50d = np.load(\"/Users/zhang/MscProject_tweak2vec/word2vecModel/w2v_google_50d.npy\")\n",
    "w2v_pivots100_50d = np.load(\"/Users/zhang/MscProject_tweak2vec/word2vecModel/w2v_pivots100_50d_0.1.npy\")\n",
    "vocab_list = np.load('/Users/zhang/MscProject_tweak2vec/corpus/quora_vocab5.npy')"
   ]
  },
  {
   "cell_type": "code",
   "execution_count": 41,
   "metadata": {},
   "outputs": [
    {
     "name": "stdout",
     "output_type": "stream",
     "text": [
      "[-0.6966534  -0.4016351  -0.1549023  -0.15343124  0.11273665 -0.20632797\n",
      " -0.05852845  0.18393464  0.04037216 -0.15603983 -0.12679     0.1046142\n",
      " -0.03136151 -0.09917641 -0.21953696 -0.0655791  -0.3572455  -0.07304936\n",
      "  0.28290594  0.25940606  0.18046263 -0.18454191 -0.13335513 -0.11446908\n",
      " -0.09217896 -0.02864585  0.07994083 -0.35668796 -0.16788772 -0.09856568\n",
      " -0.05210084 -0.06661749  0.09986917  0.15961035 -0.12051732 -0.03440592\n",
      "  0.02815557 -0.17301133 -0.1794618  -0.00421432 -0.1891277  -0.17107552\n",
      " -0.1458907  -0.08563197 -0.04394729 -0.05338894  0.11201006 -0.2840997\n",
      " -0.21458015  0.03424297]\n",
      "[-0.61069733 -0.28587377 -0.03572964 -0.01999969  0.19926314 -0.18807139\n",
      " -0.00374765  0.10094376 -0.07623999 -0.04101926 -0.02894157  0.03351217\n",
      "  0.07852096 -0.01705614 -0.24527752 -0.06136918 -0.23775153 -0.18538113\n",
      "  0.27501443  0.1674429   0.016457   -0.20590273 -0.19755514 -0.12686346\n",
      " -0.04375162 -0.1273627   0.09120347 -0.39316246 -0.06907935 -0.01720579\n",
      " -0.04126128 -0.04455158 -0.00908545  0.19399512 -0.09307502 -0.02523406\n",
      " -0.03993081 -0.21482942  0.01614121  0.0191928  -0.09315825 -0.23286501\n",
      " -0.09298741 -0.02490291 -0.01528095 -0.00640299  0.01212835 -0.17501938\n",
      " -0.25319442  0.08240394]\n"
     ]
    }
   ],
   "source": [
    "print(w2v_google_50d[1])\n",
    "print(w2v_pivots100_50d[1])"
   ]
  },
  {
   "cell_type": "code",
   "execution_count": 51,
   "metadata": {
    "collapsed": true
   },
   "outputs": [],
   "source": [
    "google_pc = pca.fit_transform(w2v_google_50d)\n",
    "pivots_pc = pca.fit_transform(w2v_pivots100_50d)"
   ]
  },
  {
   "cell_type": "code",
   "execution_count": 52,
   "metadata": {},
   "outputs": [
    {
     "data": {
      "image/png": "[encoded data removed]",
      "text/plain": [
       "<matplotlib.figure.Figure at 0x1a259a6c50>"
      ]
     },
     "metadata": {},
     "output_type": "display_data"
    }
   ],
   "source": [
    "start = 0\n",
    "end = 10\n",
    "google_x = [w[0] for w in google_pc[start:end] ]\n",
    "google_y = [w[1] for w in google_pc[start:end] ]\n",
    "i=start\n",
    "for a,b in zip(google_x,google_y):\n",
    "    plt.text(a+0.005, b, vocab_list[i][0], ha='center', va= 'bottom',fontsize=10)\n",
    "    i=i+1\n",
    "plt.scatter(google_x, google_y)\n",
    "plt.show()"
   ]
  },
  {
   "cell_type": "code",
   "execution_count": 53,
   "metadata": {},
   "outputs": [
    {
     "data": {
      "image/png": "[encoded data removed]",
      "text/plain": [
       "<matplotlib.figure.Figure at 0x1a258bc400>"
      ]
     },
     "metadata": {},
     "output_type": "display_data"
    }
   ],
   "source": [
    "pivots_x = [w[0] for w in pivots_pc[start:end] ]\n",
    "pivots_y = [w[1] for w in pivots_pc[start:end] ]\n",
    "i=start\n",
    "for a,b in zip(pivots_x,pivots_y):\n",
    "    plt.text(a+0.005, b, vocab_list[i][0], ha='center', va= 'bottom',fontsize=10)\n",
    "    i=i+1\n",
    "plt.scatter(pivots_x, pivots_y)\n",
    "plt.show()"
   ]
  }
 ],
 "metadata": {
  "kernelspec": {
   "display_name": "Python 3",
   "language": "python",
   "name": "python3"
  },
  "language_info": {
   "codemirror_mode": {
    "name": "ipython",
    "version": 3
   },
   "file_extension": ".py",
   "mimetype": "text/x-python",
   "name": "python",
   "nbconvert_exporter": "python",
   "pygments_lexer": "ipython3",
   "version": "3.6.3"
  }
 },
 "nbformat": 4,
 "nbformat_minor": 2
}
