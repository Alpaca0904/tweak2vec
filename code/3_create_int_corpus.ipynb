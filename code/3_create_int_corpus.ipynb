{
 "cells": [
  {
   "cell_type": "code",
   "execution_count": 26,
   "metadata": {},
   "outputs": [],
   "source": [
    "import numpy as np"
   ]
  },
  {
   "cell_type": "code",
   "execution_count": 27,
   "metadata": {},
   "outputs": [],
   "source": [
    "def doc_to_int(docs, vocab):\n",
    "    doc_int = []\n",
    "    for doc in docs:\n",
    "        doc_int.append([vocab[word] for word in doc])\n",
    "    return doc_int"
   ]
  },
  {
   "cell_type": "code",
   "execution_count": 28,
   "metadata": {},
   "outputs": [],
   "source": [
    "stack_corpus = list(np.load(\"/Users/zhang/MscProject_tweak2vec/corpus/stack_corpus_withunk.npy\"))\n",
    "google_wordVec = np.load(\"/Users/zhang/MscProject_tweak2vec/word2vecModel/word2vec_googlestack.npy\")\n",
    "stack_wordVec = np.load(\"/Users/zhang/MscProject_tweak2vec/word2vecModel/word2vec_stack.npy\")\n",
    "stack_vocab_freq_list = np.load('/Users/zhang/MscProject_tweak2vec/corpus/stack_vocab10.npy')\n",
    "stack_vocab_list = [w[0] for w in stack_vocab_freq_list]\n",
    "stack_vocab_list.append('UNK')\n",
    "stack_vocab_int = {word: ii+1 for ii, word in enumerate(stack_vocab_list)}"
   ]
  },
  {
   "cell_type": "code",
   "execution_count": 22,
   "metadata": {},
   "outputs": [],
   "source": [
    "int_corpus = doc_to_int(stack_corpus, stack_vocab_int)"
   ]
  },
  {
   "cell_type": "code",
   "execution_count": 23,
   "metadata": {},
   "outputs": [],
   "source": [
    "np.save('stack_corpus_int.npy',np.array(int_corpus))"
   ]
  }
 ],
 "metadata": {
  "kernelspec": {
   "display_name": "Python 3",
   "language": "python",
   "name": "python3"
  },
  "language_info": {
   "codemirror_mode": {
    "name": "ipython",
    "version": 3
   },
   "file_extension": ".py",
   "mimetype": "text/x-python",
   "name": "python",
   "nbconvert_exporter": "python",
   "pygments_lexer": "ipython3",
   "version": "3.6.5"
  }
 },
 "nbformat": 4,
 "nbformat_minor": 2
}
