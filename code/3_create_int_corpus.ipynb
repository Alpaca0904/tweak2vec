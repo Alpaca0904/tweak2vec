{
 "cells": [
  {
   "cell_type": "code",
   "execution_count": 5,
   "metadata": {
    "collapsed": true
   },
   "outputs": [],
   "source": [
    "import numpy as np"
   ]
  },
  {
   "cell_type": "code",
   "execution_count": 6,
   "metadata": {
    "collapsed": true
   },
   "outputs": [],
   "source": [
    "def doc_to_int(docs, vocab):\n",
    "    doc_int = []\n",
    "    for doc in docs:\n",
    "        doc_int.append([vocab[word] for word in doc])\n",
    "    return doc_int"
   ]
  },
  {
   "cell_type": "code",
   "execution_count": 35,
   "metadata": {
    "collapsed": true
   },
   "outputs": [],
   "source": [
    "stack_corpus = list(np.load(\"/Users/zhang/MscProject_tweak2vec/corpus/stack_corpus_withunk.npy\"))\n",
    "#google_wordVec = np.load(\"/Users/zhang/MscProject_tweak2vec/word2vecModel/word2vec_googlestack.npy\")\n",
    "#stack_wordVec = np.load(\"/Users/zhang/MscProject_tweak2vec/word2vecModel/word2vec_stack.npy\")\n",
    "stack_vocab_freq_list = np.load('/Users/zhang/MscProject_tweak2vec/corpus/stack_vocab10.npy')\n",
    "stack_vocab_list = [w[0] for w in stack_vocab_freq_list]\n",
    "stack_vocab_list.append('UNK')\n",
    "stack_vocab_int = {word: ii+1 for ii, word in enumerate(stack_vocab_list)}"
   ]
  },
  {
   "cell_type": "code",
   "execution_count": 7,
   "metadata": {
    "collapsed": true
   },
   "outputs": [],
   "source": [
    "quora_corpus = list(np.load(\"/Users/zhang/MscProject_tweak2vec/corpus/quora_corpus_withunk5.npy\"))\n",
    "quora_vocab_freq_list = np.load('/Users/zhang/MscProject_tweak2vec/corpus/quora_vocab5.npy')\n",
    "quora_vocab_list = [w[0] for w in quora_vocab_freq_list]\n",
    "quora_vocab_list.append('UNK')\n",
    "quora_vocab_int = {word: ii for ii, word in enumerate(quora_vocab_list)}"
   ]
  },
  {
   "cell_type": "code",
   "execution_count": 9,
   "metadata": {
    "collapsed": true
   },
   "outputs": [],
   "source": [
    "int_corpus = doc_to_int(quora_corpus, quora_vocab_int)"
   ]
  },
  {
   "cell_type": "code",
   "execution_count": 16,
   "metadata": {
    "collapsed": true
   },
   "outputs": [],
   "source": [
    "np.save('quora_corpus_int.npy',np.array(int_corpus))"
   ]
  }
 ],
 "metadata": {
  "kernelspec": {
   "display_name": "Python 3",
   "language": "python",
   "name": "python3"
  },
  "language_info": {
   "codemirror_mode": {
    "name": "ipython",
    "version": 3
   },
   "file_extension": ".py",
   "mimetype": "text/x-python",
   "name": "python",
   "nbconvert_exporter": "python",
   "pygments_lexer": "ipython3",
   "version": "3.6.3"
  }
 },
 "nbformat": 4,
 "nbformat_minor": 2
}
