{
 "cells": [
  {
   "cell_type": "code",
   "execution_count": 3,
   "metadata": {
    "collapsed": true
   },
   "outputs": [],
   "source": [
    "from sklearn import svm\n",
    "import numpy as np\n",
    "from sklearn.multiclass import OneVsRestClassifier\n",
    "import math"
   ]
  },
  {
   "cell_type": "code",
   "execution_count": 4,
   "metadata": {
    "collapsed": true
   },
   "outputs": [],
   "source": [
    "quora_corpus = np.load(\"/Users/zhang/MscProject_tweak2vec/corpus/quora_corpus_int5.npy\")\n",
    "google_vec = np.load(\"/Users/zhang/MscProject_tweak2vec/word2vecModel/word2vec_googlequora5.npy\")\n",
    "quora_vec = np.load(\"/Users/zhang/MscProject_tweak2vec/word2vecModel/word2vec_quora5.npy\")\n",
    "labels = np.load(\"/Users/zhang/MscProject_tweak2vec/corpus/quora_labels.npy\")"
   ]
  },
  {
   "cell_type": "code",
   "execution_count": 5,
   "metadata": {
    "collapsed": true
   },
   "outputs": [],
   "source": [
    "questions = []\n",
    "for n in range(int(len(quora_corpus)/2)):\n",
    "    questions.append([ quora_corpus[2*n] , quora_corpus[2*n+1] ] )"
   ]
  },
  {
   "cell_type": "code",
   "execution_count": 6,
   "metadata": {
    "collapsed": true
   },
   "outputs": [],
   "source": [
    "quora_train_x_int = questions[0:320000]\n",
    "quora_train_y = labels[0:320000]\n",
    "quora_val_x_int = questions[320001:360000]\n",
    "quora_val_y = labels[320001:360000]"
   ]
  },
  {
   "cell_type": "code",
   "execution_count": 7,
   "metadata": {
    "collapsed": true,
    "scrolled": true
   },
   "outputs": [],
   "source": [
    "def subtract_two_sentences(questions, vec_table):\n",
    "    ret_list = list()\n",
    "    xx = list()\n",
    "    for q in questions:\n",
    "        if q[0]:\n",
    "            q1 = np.average([vec_table[w] for w in q[0]], axis=0)\n",
    "        else:\n",
    "            q1 = np.zeros(vec_table.shape[1])\n",
    "        if q[1]:\n",
    "            q2 = np.average([vec_table[w] for w in q[1]], axis=0)\n",
    "        else:\n",
    "            q2 = np.zeros(vec_table.shape[1])                \n",
    "        xx.append((q1-q2)**2)\n",
    "    return xx\n",
    "    "
   ]
  },
  {
   "cell_type": "code",
   "execution_count": 8,
   "metadata": {
    "collapsed": true
   },
   "outputs": [],
   "source": [
    "quora_train_x_quora = subtract_two_sentences(quora_train_x_int, quora_vec)\n",
    "quora_val_x_quora = subtract_two_sentences(quora_val_x_int, quora_vec)"
   ]
  },
  {
   "cell_type": "code",
   "execution_count": 21,
   "metadata": {
    "collapsed": true
   },
   "outputs": [],
   "source": [
    "quora_train_x_google = subtract_two_sentences(quora_train_x_int, google_vec)\n",
    "quora_val_x_google = subtract_two_sentences(quora_val_x_int, google_vec)"
   ]
  },
  {
   "cell_type": "code",
   "execution_count": 17,
   "metadata": {
    "collapsed": true
   },
   "outputs": [],
   "source": [
    "model = svm.SVC(C=0.8, kernel='rbf', gamma=10, decision_function_shape='ovr')"
   ]
  },
  {
   "cell_type": "code",
   "execution_count": 14,
   "metadata": {
    "collapsed": true
   },
   "outputs": [],
   "source": [
    "clf_quora = model.fit(quora_train_x_quora[:1000],quora_train_y[:1000])"
   ]
  },
  {
   "cell_type": "code",
   "execution_count": 18,
   "metadata": {},
   "outputs": [
    {
     "data": {
      "text/plain": [
       "0.62"
      ]
     },
     "execution_count": 18,
     "metadata": {},
     "output_type": "execute_result"
    }
   ],
   "source": [
    "clf_quora.score(quora_train_x_quora[:1000], quora_train_y[:1000])"
   ]
  },
  {
   "cell_type": "code",
   "execution_count": 19,
   "metadata": {},
   "outputs": [
    {
     "data": {
      "text/plain": [
       "0.6288407210180255"
      ]
     },
     "execution_count": 19,
     "metadata": {},
     "output_type": "execute_result"
    }
   ],
   "source": [
    "clf_quora.score(quora_val_x_quora, quora_val_y)"
   ]
  }
 ],
 "metadata": {
  "kernelspec": {
   "display_name": "Python 3",
   "language": "python",
   "name": "python3"
  },
  "language_info": {
   "codemirror_mode": {
    "name": "ipython",
    "version": 3
   },
   "file_extension": ".py",
   "mimetype": "text/x-python",
   "name": "python",
   "nbconvert_exporter": "python",
   "pygments_lexer": "ipython3",
   "version": "3.6.3"
  }
 },
 "nbformat": 4,
 "nbformat_minor": 2
}
