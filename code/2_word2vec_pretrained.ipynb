{
 "cells": [
  {
   "cell_type": "code",
   "execution_count": 1,
   "metadata": {},
   "outputs": [],
   "source": [
    "import numpy as np\n",
    "import gensim.models"
   ]
  },
  {
   "cell_type": "code",
   "execution_count": 3,
   "metadata": {},
   "outputs": [],
   "source": [
    "model = pretrained_model = gensim.models.KeyedVectors.load_word2vec_format('/Users/zhang/MscProject_tweak2vec/GoogleNews-vectors-negative300.bin',binary=True) "
   ]
  },
  {
   "cell_type": "code",
   "execution_count": 4,
   "metadata": {
    "scrolled": true
   },
   "outputs": [
    {
     "name": "stdout",
     "output_type": "stream",
     "text": [
      "xiang 0.7055069208145142\n",
      "xin 0.6942683458328247\n",
      "guo 0.6828628778457642\n",
      "zhong 0.6742316484451294\n",
      "huo 0.6680068969726562\n",
      "xia 0.6596835851669312\n",
      "xue 0.6593036651611328\n",
      "qing 0.6532618999481201\n",
      "tzu 0.6523303389549255\n",
      "liu 0.6508431434631348\n"
     ]
    }
   ],
   "source": [
    "items = model.most_similar('zhang')\n",
    "for item in items:\n",
    "    print(item[0], item[1])"
   ]
  }
 ],
 "metadata": {
  "kernelspec": {
   "display_name": "Python 3",
   "language": "python",
   "name": "python3"
  },
  "language_info": {
   "codemirror_mode": {
    "name": "ipython",
    "version": 3
   },
   "file_extension": ".py",
   "mimetype": "text/x-python",
   "name": "python",
   "nbconvert_exporter": "python",
   "pygments_lexer": "ipython3",
   "version": "3.6.5"
  }
 },
 "nbformat": 4,
 "nbformat_minor": 2
}
