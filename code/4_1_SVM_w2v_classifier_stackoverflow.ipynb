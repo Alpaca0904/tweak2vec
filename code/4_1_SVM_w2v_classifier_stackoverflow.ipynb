{
 "cells": [
  {
   "cell_type": "code",
   "execution_count": 1,
   "metadata": {
    "collapsed": true
   },
   "outputs": [],
   "source": [
    "from sklearn import svm\n",
    "import numpy as np\n",
    "from sklearn.multiclass import OneVsRestClassifier"
   ]
  },
  {
   "cell_type": "code",
   "execution_count": 36,
   "metadata": {
    "collapsed": true
   },
   "outputs": [],
   "source": [
    "stack_corpus = np.load(\"/Users/zhang/MscProject_tweak2vec/corpus/stack_corpus_int200.npy\")\n",
    "google_vec = np.load(\"/Users/zhang/MscProject_tweak2vec/word2vecModel/word2vec_googlestack200.npy\")\n",
    "stack_vec = np.load(\"/Users/zhang/MscProject_tweak2vec/word2vecModel/word2vec_stack200.npy\")"
   ]
  },
  {
   "cell_type": "code",
   "execution_count": 50,
   "metadata": {
    "collapsed": true
   },
   "outputs": [],
   "source": [
    "sgns_vec = np.load(\"/Users/zhang/MscProject_tweak2vec/word2vecModel/sgns_stack200.npy\")"
   ]
  },
  {
   "cell_type": "code",
   "execution_count": 56,
   "metadata": {
    "collapsed": true
   },
   "outputs": [],
   "source": [
    "sgnspre_vec = np.load(\"/Users/zhang/MscProject_tweak2vec/word2vecModel/sgns_googlepre200.npy\")"
   ]
  },
  {
   "cell_type": "code",
   "execution_count": 22,
   "metadata": {
    "collapsed": true
   },
   "outputs": [],
   "source": [
    "concat_vec = np.concatenate([google_vec, stack_vec], axis=1)"
   ]
  },
  {
   "cell_type": "code",
   "execution_count": 21,
   "metadata": {
    "collapsed": true
   },
   "outputs": [],
   "source": [
    "avg_vec = (google_vec + stack_vec)/2"
   ]
  },
  {
   "cell_type": "code",
   "execution_count": 3,
   "metadata": {
    "collapsed": true
   },
   "outputs": [],
   "source": [
    "# label: r 0 py 1 js 2 cpp 2 php 2\n",
    "traindatasize_1 = 1000\n",
    "traindatasize_2 = 500\n",
    "\n",
    "stack_train_intx = np.concatenate((stack_corpus[0:0+traindatasize_1],\n",
    "                             stack_corpus[50000:50000+traindatasize_1],\n",
    "                             stack_corpus[100000:100000+traindatasize_2],\n",
    "                             stack_corpus[150000:150000+traindatasize_2],\n",
    "                             stack_corpus[175000:175000+traindatasize_2]), axis=0)\n",
    "\n",
    "stack_train_y = np.concatenate((np.ones(traindatasize_1)*0,\n",
    "                                np.ones(traindatasize_1)*1,\n",
    "                                np.ones(traindatasize_2)*2,\n",
    "                                np.ones(traindatasize_2)*3,\n",
    "                                np.ones(traindatasize_2)*4), axis=0)"
   ]
  },
  {
   "cell_type": "code",
   "execution_count": 4,
   "metadata": {
    "collapsed": true
   },
   "outputs": [],
   "source": [
    "valdatasize_1 = 400\n",
    "valdatasize_2 = 200\n",
    "\n",
    "stack_val_intx = np.concatenate((stack_corpus[40000:40000+valdatasize_1],\n",
    "                             stack_corpus[90000:90000+valdatasize_1],\n",
    "                             stack_corpus[140000:140000+valdatasize_2],\n",
    "                             stack_corpus[170000:170000+valdatasize_2],\n",
    "                             stack_corpus[195000:195000+valdatasize_2]), axis=0)\n",
    "\n",
    "stack_val_y = np.concatenate((np.ones(valdatasize_1)*0,\n",
    "                              np.ones(valdatasize_1)*1,\n",
    "                              np.ones(valdatasize_2)*2,\n",
    "                              np.ones(valdatasize_2)*3,\n",
    "                              np.ones(valdatasize_2)*4), axis=0)"
   ]
  },
  {
   "cell_type": "code",
   "execution_count": 5,
   "metadata": {
    "collapsed": true,
    "scrolled": true
   },
   "outputs": [],
   "source": [
    "def average_sentence_vec(int_sentences, vec_table):\n",
    "    xx = list()\n",
    "    for line in int_sentences:\n",
    "        xx.append( np.average([vec_table[w] for w in line], axis=0) )\n",
    "    return xx\n",
    "    "
   ]
  },
  {
   "cell_type": "code",
   "execution_count": 23,
   "metadata": {
    "collapsed": true
   },
   "outputs": [],
   "source": [
    "stack_train_x_google = average_sentence_vec(stack_train_intx, google_vec)\n",
    "stack_val_x_google = average_sentence_vec(stack_val_intx, google_vec)\n",
    "\n",
    "stack_train_x_stack = average_sentence_vec(stack_train_intx, stack_vec)\n",
    "stack_val_x_stack = average_sentence_vec(stack_val_intx, stack_vec)\n",
    "\n",
    "stack_train_x_concat = average_sentence_vec(stack_train_intx, concat_vec)\n",
    "stack_val_x_concat = average_sentence_vec(stack_val_intx, concat_vec)\n",
    "\n",
    "stack_train_x_avg = average_sentence_vec(stack_train_intx, avg_vec)\n",
    "stack_val_x_avg = average_sentence_vec(stack_val_intx, avg_vec)"
   ]
  },
  {
   "cell_type": "code",
   "execution_count": 51,
   "metadata": {
    "collapsed": true
   },
   "outputs": [],
   "source": [
    "stack_train_x_sgns = average_sentence_vec(stack_train_intx, sgns_vec)\n",
    "stack_val_x_sgns = average_sentence_vec(stack_val_intx, sgns_vec)"
   ]
  },
  {
   "cell_type": "code",
   "execution_count": 57,
   "metadata": {
    "collapsed": true
   },
   "outputs": [],
   "source": [
    "stack_train_x_sgnspre = average_sentence_vec(stack_train_intx, sgnspre_vec)\n",
    "stack_val_x_sgnspre = average_sentence_vec(stack_val_intx, sgnspre_vec)"
   ]
  },
  {
   "cell_type": "code",
   "execution_count": 15,
   "metadata": {
    "collapsed": true
   },
   "outputs": [],
   "source": [
    "model = OneVsRestClassifier(svm.SVC(kernel='linear'))\n",
    "clf_google = model.fit(stack_train_x_google,stack_train_y)\n",
    "clf_stack = model.fit(stack_train_x_stack,stack_train_y)"
   ]
  },
  {
   "cell_type": "code",
   "execution_count": 32,
   "metadata": {
    "collapsed": true
   },
   "outputs": [],
   "source": [
    "clf_concat = model.fit(stack_train_x_concat,stack_train_y)"
   ]
  },
  {
   "cell_type": "code",
   "execution_count": 25,
   "metadata": {
    "collapsed": true
   },
   "outputs": [],
   "source": [
    "clf_avg = model.fit(stack_train_x_avg,stack_train_y)"
   ]
  },
  {
   "cell_type": "code",
   "execution_count": 52,
   "metadata": {
    "collapsed": true
   },
   "outputs": [],
   "source": [
    "clf_sgns = model.fit(stack_train_x_sgns,stack_train_y)"
   ]
  },
  {
   "cell_type": "code",
   "execution_count": 58,
   "metadata": {
    "collapsed": true
   },
   "outputs": [],
   "source": [
    "clf_sgnspre = model.fit(stack_train_x_sgnspre,stack_train_y)"
   ]
  },
  {
   "cell_type": "markdown",
   "metadata": {},
   "source": [
    "### sgns"
   ]
  },
  {
   "cell_type": "code",
   "execution_count": 53,
   "metadata": {},
   "outputs": [
    {
     "data": {
      "text/plain": [
       "0.9074285714285715"
      ]
     },
     "execution_count": 53,
     "metadata": {},
     "output_type": "execute_result"
    }
   ],
   "source": [
    "clf_sgns.score(stack_train_x_sgns, stack_train_y)"
   ]
  },
  {
   "cell_type": "code",
   "execution_count": 54,
   "metadata": {},
   "outputs": [
    {
     "data": {
      "text/plain": [
       "0.76"
      ]
     },
     "execution_count": 54,
     "metadata": {},
     "output_type": "execute_result"
    }
   ],
   "source": [
    "clf_sgns.score(stack_val_x_sgns, stack_val_y)"
   ]
  },
  {
   "cell_type": "code",
   "execution_count": 59,
   "metadata": {},
   "outputs": [
    {
     "data": {
      "text/plain": [
       "0.8888571428571429"
      ]
     },
     "execution_count": 59,
     "metadata": {},
     "output_type": "execute_result"
    }
   ],
   "source": [
    "clf_sgnspre.score(stack_train_x_sgnspre, stack_train_y)"
   ]
  },
  {
   "cell_type": "code",
   "execution_count": 60,
   "metadata": {},
   "outputs": [
    {
     "data": {
      "text/plain": [
       "0.7785714285714286"
      ]
     },
     "execution_count": 60,
     "metadata": {},
     "output_type": "execute_result"
    }
   ],
   "source": [
    "clf_sgnspre.score(stack_val_x_sgnspre, stack_val_y)"
   ]
  },
  {
   "cell_type": "markdown",
   "metadata": {},
   "source": [
    "### average"
   ]
  },
  {
   "cell_type": "code",
   "execution_count": 26,
   "metadata": {},
   "outputs": [
    {
     "data": {
      "text/plain": [
       "0.9528571428571428"
      ]
     },
     "execution_count": 26,
     "metadata": {},
     "output_type": "execute_result"
    }
   ],
   "source": [
    "clf_avg.score(stack_train_x_avg, stack_train_y)"
   ]
  },
  {
   "cell_type": "code",
   "execution_count": 27,
   "metadata": {},
   "outputs": [
    {
     "data": {
      "text/plain": [
       "0.855"
      ]
     },
     "execution_count": 27,
     "metadata": {},
     "output_type": "execute_result"
    }
   ],
   "source": [
    "clf_avg.score(stack_val_x_avg, stack_val_y)"
   ]
  },
  {
   "cell_type": "markdown",
   "metadata": {},
   "source": [
    "### concatenate"
   ]
  },
  {
   "cell_type": "code",
   "execution_count": 31,
   "metadata": {},
   "outputs": [
    {
     "data": {
      "text/plain": [
       "(3500, 600)"
      ]
     },
     "execution_count": 31,
     "metadata": {},
     "output_type": "execute_result"
    }
   ],
   "source": [
    "np.array(stack_train_x_concat).shape"
   ]
  },
  {
   "cell_type": "code",
   "execution_count": 33,
   "metadata": {},
   "outputs": [
    {
     "data": {
      "text/plain": [
       "0.9694285714285714"
      ]
     },
     "execution_count": 33,
     "metadata": {},
     "output_type": "execute_result"
    }
   ],
   "source": [
    "clf_concat.score(stack_train_x_concat, stack_train_y)"
   ]
  },
  {
   "cell_type": "code",
   "execution_count": 34,
   "metadata": {},
   "outputs": [
    {
     "data": {
      "text/plain": [
       "0.8557142857142858"
      ]
     },
     "execution_count": 34,
     "metadata": {},
     "output_type": "execute_result"
    }
   ],
   "source": [
    "clf_concat.score(stack_val_x_concat, stack_val_y)"
   ]
  },
  {
   "cell_type": "markdown",
   "metadata": {},
   "source": [
    "### google word2vec"
   ]
  },
  {
   "cell_type": "code",
   "execution_count": 16,
   "metadata": {},
   "outputs": [
    {
     "data": {
      "text/plain": [
       "0.2857142857142857"
      ]
     },
     "execution_count": 16,
     "metadata": {},
     "output_type": "execute_result"
    }
   ],
   "source": [
    "clf_google.score(stack_train_x_google, stack_train_y)"
   ]
  },
  {
   "cell_type": "code",
   "execution_count": 17,
   "metadata": {},
   "outputs": [
    {
     "data": {
      "text/plain": [
       "0.2857142857142857"
      ]
     },
     "execution_count": 17,
     "metadata": {},
     "output_type": "execute_result"
    }
   ],
   "source": [
    "clf_google.score(stack_val_x_google, stack_val_y)"
   ]
  },
  {
   "cell_type": "markdown",
   "metadata": {},
   "source": [
    "### stack word2vec"
   ]
  },
  {
   "cell_type": "code",
   "execution_count": 18,
   "metadata": {},
   "outputs": [
    {
     "data": {
      "text/plain": [
       "0.9614285714285714"
      ]
     },
     "execution_count": 18,
     "metadata": {},
     "output_type": "execute_result"
    }
   ],
   "source": [
    "clf_stack.score(stack_train_x_stack, stack_train_y)"
   ]
  },
  {
   "cell_type": "code",
   "execution_count": 19,
   "metadata": {},
   "outputs": [
    {
     "data": {
      "text/plain": [
       "0.8471428571428572"
      ]
     },
     "execution_count": 19,
     "metadata": {},
     "output_type": "execute_result"
    }
   ],
   "source": [
    "clf_stack.score(stack_val_x_stack, stack_val_y)"
   ]
  }
 ],
 "metadata": {
  "kernelspec": {
   "display_name": "Python 3",
   "language": "python",
   "name": "python3"
  },
  "language_info": {
   "codemirror_mode": {
    "name": "ipython",
    "version": 3
   },
   "file_extension": ".py",
   "mimetype": "text/x-python",
   "name": "python",
   "nbconvert_exporter": "python",
   "pygments_lexer": "ipython3",
   "version": "3.6.3"
  }
 },
 "nbformat": 4,
 "nbformat_minor": 2
}
