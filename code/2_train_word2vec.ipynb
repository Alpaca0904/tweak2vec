{
 "cells": [
  {
   "cell_type": "code",
   "execution_count": 1,
   "metadata": {},
   "outputs": [],
   "source": [
    "import numpy as np\n",
    "import gensim.models\n",
    "from gensim.models import Word2Vec"
   ]
  },
  {
   "cell_type": "code",
   "execution_count": 36,
   "metadata": {},
   "outputs": [],
   "source": [
    "google_model_full = gensim.models.KeyedVectors.load_word2vec_format(\n",
    "    '/Users/zhang/MscProject_tweak2vec/GoogleNews-vectors-negative300.bin',binary=True)\n",
    "google_model_20k = gensim.models.KeyedVectors.load_word2vec_format(\n",
    "    '/Users/zhang/MscProject_tweak2vec/GoogleNews-vectors-negative300.bin',binary=True, limit=20000)\n",
    "google_model_40k = gensim.models.KeyedVectors.load_word2vec_format(\n",
    "    '/Users/zhang/MscProject_tweak2vec/GoogleNews-vectors-negative300.bin',binary=True, limit=40000)"
   ]
  },
  {
   "cell_type": "code",
   "execution_count": 4,
   "metadata": {},
   "outputs": [],
   "source": [
    "stack_corpus = list(np.load(\"/Users/zhang/MscProject_tweak2vec/corpus/stack_corpus_unk.npy\"))"
   ]
  },
  {
   "cell_type": "code",
   "execution_count": 5,
   "metadata": {},
   "outputs": [],
   "source": [
    "stack_model = Word2Vec(stack_corpus, sg=0, size=300,  window=5,  min_count=0)"
   ]
  },
  {
   "cell_type": "code",
   "execution_count": 7,
   "metadata": {},
   "outputs": [
    {
     "name": "stderr",
     "output_type": "stream",
     "text": [
      "/Users/zhang/anaconda/envs/nlp/lib/python3.6/site-packages/ipykernel_launcher.py:1: DeprecationWarning: Call to deprecated `most_similar` (Method will be removed in 4.0.0, use self.wv.most_similar() instead).\n",
      "  \"\"\"Entry point for launching an IPython kernel.\n"
     ]
    },
    {
     "name": "stdout",
     "output_type": "stream",
     "text": [
      "arrays 0.6747047305107117\n",
      "associative 0.5632919073104858\n",
      "multidimensional 0.5586258172988892\n",
      "arr 0.49712762236595154\n",
      "findroot 0.49052661657333374\n",
      "myarray 0.4847452640533447\n",
      "newarray 0.47977501153945923\n",
      "subarray 0.47943246364593506\n",
      "dictionary 0.4645375609397888\n",
      "dictionaries 0.4604560136795044\n"
     ]
    }
   ],
   "source": [
    "items = stack_model.most_similar('array')\n",
    "for item in items:\n",
    "    print(item[0], item[1])"
   ]
  },
  {
   "cell_type": "code",
   "execution_count": 18,
   "metadata": {},
   "outputs": [],
   "source": [
    "stack_model.save('/Users/zhang/MscProject_tweak2vec/word2vecModel/stack_model')  "
   ]
  },
  {
   "cell_type": "code",
   "execution_count": 8,
   "metadata": {},
   "outputs": [],
   "source": [
    "stack_vocab_freq_list = np.load('/Users/zhang/MscProject_tweak2vec/corpus/stack_vocab.npy')\n",
    "stack_vocab_list = [w[0] for w in stack_vocab_freq_list]\n",
    "stack_vocab_list.append('UNK')"
   ]
  },
  {
   "cell_type": "code",
   "execution_count": 10,
   "metadata": {},
   "outputs": [],
   "source": [
    "stack_vocab_int = {word: ii+1 for ii, word in enumerate(stack_vocab_list)}"
   ]
  },
  {
   "cell_type": "code",
   "execution_count": 35,
   "metadata": {},
   "outputs": [],
   "source": [
    "oov_list = list()\n",
    "invocab_list = list()\n",
    "for word in stack_vocab_list:\n",
    "    if word not in google_model_full:\n",
    "        oov_list.append(word)\n",
    "    if word in google_model_full:\n",
    "        invocab_list.append(word)"
   ]
  },
  {
   "cell_type": "code",
   "execution_count": 38,
   "metadata": {},
   "outputs": [
    {
     "name": "stderr",
     "output_type": "stream",
     "text": [
      "/Users/zhang/anaconda/envs/nlp/lib/python3.6/site-packages/ipykernel_launcher.py:6: DeprecationWarning: Call to deprecated `__getitem__` (Method will be removed in 4.0.0, use self.wv.__getitem__() instead).\n",
      "  \n"
     ]
    }
   ],
   "source": [
    "stack_wordVec = list()\n",
    "stack_wordVec.append(np.zeros(300))\n",
    "google_wordVec = list()\n",
    "google_wordVec.append(np.zeros(300))\n",
    "for word in stack_vocab_list:\n",
    "    stack_wordVec.append(stack_model[word])\n",
    "    if word in google_model_full:\n",
    "        google_wordVec.append(google_model_full[word])\n",
    "    if word not in google_model_full:\n",
    "        google_wordVec.append(google_model_full['UNK'])\n",
    "    "
   ]
  },
  {
   "cell_type": "code",
   "execution_count": 41,
   "metadata": {},
   "outputs": [],
   "source": [
    "np.save('word2vec_googlestack.npy',np.array(google_wordVec))\n",
    "np.save('word2vec_stack.npy',np.array(stack_wordVec))"
   ]
  }
 ],
 "metadata": {
  "kernelspec": {
   "display_name": "Python 3",
   "language": "python",
   "name": "python3"
  },
  "language_info": {
   "codemirror_mode": {
    "name": "ipython",
    "version": 3
   },
   "file_extension": ".py",
   "mimetype": "text/x-python",
   "name": "python",
   "nbconvert_exporter": "python",
   "pygments_lexer": "ipython3",
   "version": "3.6.5"
  }
 },
 "nbformat": 4,
 "nbformat_minor": 2
}
