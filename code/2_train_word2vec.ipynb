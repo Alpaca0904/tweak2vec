{
 "cells": [
  {
   "cell_type": "code",
   "execution_count": 9,
   "metadata": {
    "collapsed": true
   },
   "outputs": [],
   "source": [
    "import numpy as np\n",
    "import gensim.models\n",
    "from gensim.models import Word2Vec"
   ]
  },
  {
   "cell_type": "code",
   "execution_count": 10,
   "metadata": {
    "collapsed": true
   },
   "outputs": [],
   "source": [
    "google_model_full = gensim.models.KeyedVectors.load_word2vec_format(\n",
    "    '/Users/zhang/MscProject_tweak2vec/GoogleNews-vectors-negative300.bin',binary=True)"
   ]
  },
  {
   "cell_type": "code",
   "execution_count": 11,
   "metadata": {
    "scrolled": true
   },
   "outputs": [
    {
     "data": {
      "text/plain": [
       "array([ 0.26953125,  0.0859375 ,  0.09423828,  0.04101562, -0.18359375,\n",
       "        0.12890625,  0.0625    , -0.10058594,  0.1484375 , -0.06591797,\n",
       "        0.13671875, -0.19042969, -0.12255859, -0.05908203, -0.29492188,\n",
       "        0.08496094, -0.02258301,  0.20410156, -0.05151367, -0.03295898,\n",
       "       -0.08056641,  0.02624512,  0.02758789,  0.10107422, -0.01708984,\n",
       "        0.10693359,  0.07324219, -0.11425781,  0.02111816,  0.06176758,\n",
       "       -0.11035156,  0.29296875, -0.08789062, -0.19140625,  0.05834961,\n",
       "        0.12695312,  0.22949219,  0.02575684,  0.03344727,  0.0255127 ,\n",
       "        0.02624512,  0.0279541 ,  0.04711914, -0.0456543 , -0.06835938,\n",
       "        0.05981445, -0.00946045,  0.00500488, -0.0144043 ,  0.08300781,\n",
       "        0.0625    ,  0.03955078,  0.03515625, -0.17675781,  0.08300781,\n",
       "       -0.06738281, -0.14550781,  0.07373047,  0.18847656,  0.0559082 ,\n",
       "        0.09130859,  0.06933594, -0.15136719, -0.02307129, -0.07275391,\n",
       "       -0.18457031,  0.06201172,  0.125     , -0.01055908, -0.02038574,\n",
       "        0.12597656,  0.09960938,  0.16699219, -0.16210938, -0.00430298,\n",
       "       -0.14160156,  0.15722656,  0.38867188, -0.12988281,  0.0703125 ,\n",
       "       -0.01470947, -0.01190186, -0.0144043 , -0.13378906, -0.2734375 ,\n",
       "       -0.21191406, -0.21777344,  0.20605469, -0.12695312,  0.17578125,\n",
       "        0.03637695,  0.33007812, -0.20605469,  0.08837891, -0.03125   ,\n",
       "       -0.13867188,  0.0378418 , -0.12158203, -0.01867676,  0.01037598,\n",
       "        0.04663086, -0.01263428, -0.05175781,  0.10253906, -0.16113281,\n",
       "       -0.03039551, -0.30273438, -0.08349609,  0.06738281,  0.08642578,\n",
       "        0.02185059, -0.00805664, -0.11035156, -0.12988281,  0.234375  ,\n",
       "       -0.01043701, -0.00494385, -0.171875  ,  0.11865234,  0.07275391,\n",
       "       -0.41601562,  0.07666016,  0.03588867, -0.02075195,  0.05395508,\n",
       "        0.16308594, -0.3125    ,  0.12158203, -0.03955078, -0.10498047,\n",
       "       -0.11865234, -0.09716797, -0.15917969, -0.16894531, -0.05834961,\n",
       "       -0.14453125,  0.09228516, -0.125     , -0.03613281,  0.07177734,\n",
       "        0.23242188,  0.01031494, -0.09277344, -0.02526855,  0.171875  ,\n",
       "       -0.03637695,  0.01574707, -0.31445312,  0.02246094,  0.05444336,\n",
       "        0.01611328,  0.171875  , -0.3046875 ,  0.02966309,  0.05615234,\n",
       "        0.06005859, -0.02563477, -0.15625   , -0.02807617,  0.06982422,\n",
       "        0.06079102,  0.35546875,  0.02355957,  0.02478027, -0.06738281,\n",
       "       -0.08007812,  0.00212097, -0.12792969,  0.06738281,  0.05053711,\n",
       "       -0.10742188,  0.125     , -0.10205078, -0.03686523,  0.08398438,\n",
       "        0.09765625,  0.12109375, -0.07568359, -0.0378418 , -0.02807617,\n",
       "       -0.14941406, -0.07617188,  0.02685547, -0.17871094,  0.1015625 ,\n",
       "       -0.09033203, -0.140625  ,  0.08642578, -0.00279236,  0.01147461,\n",
       "        0.26367188,  0.00205994,  0.05322266, -0.16796875,  0.02233887,\n",
       "       -0.09960938,  0.04174805, -0.08105469,  0.11132812, -0.20898438,\n",
       "       -0.04833984,  0.11083984, -0.16503906,  0.21777344,  0.06494141,\n",
       "       -0.12353516, -0.05102539, -0.01208496, -0.03198242, -0.07275391,\n",
       "       -0.08154297,  0.0012207 ,  0.03955078, -0.05932617, -0.171875  ,\n",
       "        0.05200195,  0.21582031,  0.2421875 ,  0.06689453,  0.18847656,\n",
       "       -0.08105469,  0.08837891, -0.06689453, -0.11669922,  0.00241089,\n",
       "       -0.10742188,  0.11865234, -0.15039062,  0.06689453, -0.04980469,\n",
       "        0.14746094, -0.10693359,  0.01312256, -0.19335938,  0.10009766,\n",
       "       -0.33203125, -0.03881836,  0.01733398,  0.0456543 , -0.04223633,\n",
       "       -0.08105469, -0.04736328,  0.08789062, -0.15625   , -0.20996094,\n",
       "       -0.04663086,  0.01196289, -0.04077148, -0.0177002 ,  0.08544922,\n",
       "        0.02404785,  0.3046875 ,  0.33984375,  0.04296875,  0.19433594,\n",
       "       -0.19628906,  0.20703125,  0.0043335 , -0.20117188, -0.07470703,\n",
       "       -0.04785156,  0.03393555, -0.22753906,  0.04003906, -0.19140625,\n",
       "        0.08007812,  0.21875   , -0.03759766, -0.02966309,  0.078125  ,\n",
       "        0.06982422,  0.03198242,  0.16308594,  0.26757812, -0.08251953,\n",
       "       -0.11523438, -0.00343323, -0.06591797, -0.03588867,  0.08496094,\n",
       "        0.16503906,  0.11279297, -0.02331543,  0.23144531, -0.05273438,\n",
       "       -0.33007812, -0.13867188,  0.00067902,  0.08691406,  0.32226562,\n",
       "       -0.22363281, -0.15039062, -0.09619141, -0.19921875, -0.19042969,\n",
       "       -0.00671387,  0.11035156,  0.12304688, -0.01843262, -0.16699219],\n",
       "      dtype=float32)"
      ]
     },
     "execution_count": 11,
     "metadata": {},
     "output_type": "execute_result"
    }
   ],
   "source": [
    "google_model_full['how']"
   ]
  },
  {
   "cell_type": "code",
   "execution_count": 2,
   "metadata": {
    "collapsed": true
   },
   "outputs": [],
   "source": [
    "google_model_20k = gensim.models.KeyedVectors.load_word2vec_format(\n",
    "    '/Users/zhang/MscProject_tweak2vec/GoogleNews-vectors-negative300.bin',binary=True, limit=20000)\n",
    "google_model_40k = gensim.models.KeyedVectors.load_word2vec_format(\n",
    "    '/Users/zhang/MscProject_tweak2vec/GoogleNews-vectors-negative300.bin',binary=True, limit=40000)\n",
    "google_model_1k = gensim.models.KeyedVectors.load_word2vec_format(\n",
    "    '/Users/zhang/MscProject_tweak2vec/GoogleNews-vectors-negative300.bin',binary=True, limit=1000)"
   ]
  },
  {
   "cell_type": "code",
   "execution_count": 24,
   "metadata": {
    "collapsed": true
   },
   "outputs": [],
   "source": [
    "stack_corpus = list(np.load(\"/Users/zhang/MscProject_tweak2vec/corpus/stack_corpus_withunk200.npy\"))"
   ]
  },
  {
   "cell_type": "code",
   "execution_count": 4,
   "metadata": {
    "collapsed": true
   },
   "outputs": [],
   "source": [
    "stack_model = Word2Vec(stack_corpus, sg=0, size=300,  window=5,  min_count=0)"
   ]
  },
  {
   "cell_type": "code",
   "execution_count": 2,
   "metadata": {
    "collapsed": true
   },
   "outputs": [],
   "source": [
    "quora_corpus = list(np.load(\"/Users/zhang/MscProject_tweak2vec/corpus/quora_corpus_withunk5.npy\"))"
   ]
  },
  {
   "cell_type": "code",
   "execution_count": 3,
   "metadata": {
    "collapsed": true
   },
   "outputs": [],
   "source": [
    "quora_model = Word2Vec(quora_corpus, sg=0, size=300,  window=5,  min_count=0)"
   ]
  },
  {
   "cell_type": "code",
   "execution_count": 7,
   "metadata": {
    "collapsed": true
   },
   "outputs": [],
   "source": [
    "quora_model.save(\"/Users/zhang/MscProject_tweak2vec/word2vecModel/quora_model5\")"
   ]
  },
  {
   "cell_type": "code",
   "execution_count": 10,
   "metadata": {},
   "outputs": [
    {
     "name": "stdout",
     "output_type": "stream",
     "text": [
      "steps 0.508415162563324\n",
      "checkmate 0.442869633436203\n",
      "americamle 0.43342840671539307\n",
      "invalid 0.4074963331222534\n",
      "obi 0.39891305565834045\n",
      "proving 0.38724929094314575\n",
      "amphetamines 0.3826720714569092\n",
      "monday 0.38219547271728516\n",
      "abide 0.38051268458366394\n",
      "robes 0.37509164214134216\n"
     ]
    },
    {
     "name": "stderr",
     "output_type": "stream",
     "text": [
      "/Users/zhang/anaconda/envs/mlp/lib/python3.6/site-packages/ipykernel_launcher.py:1: DeprecationWarning: Call to deprecated `most_similar` (Method will be removed in 4.0.0, use self.wv.most_similar() instead).\n",
      "  \"\"\"Entry point for launching an IPython kernel.\n"
     ]
    }
   ],
   "source": [
    "items = quora_model.most_similar('step')\n",
    "for item in items:\n",
    "    print(item[0], item[1])"
   ]
  },
  {
   "cell_type": "code",
   "execution_count": 13,
   "metadata": {
    "collapsed": true
   },
   "outputs": [],
   "source": [
    "stack_vocab_freq_list = np.load('/Users/zhang/MscProject_tweak2vec/corpus/stack_vocab200.npy')\n",
    "stack_vocab_list = [w[0] for w in stack_vocab_freq_list]\n",
    "stack_vocab_list.append('UNK')"
   ]
  },
  {
   "cell_type": "code",
   "execution_count": 14,
   "metadata": {
    "collapsed": true
   },
   "outputs": [],
   "source": [
    "stack_vocab_int = {word: ii+1 for ii, word in enumerate(stack_vocab_list)}"
   ]
  },
  {
   "cell_type": "code",
   "execution_count": 4,
   "metadata": {
    "collapsed": true
   },
   "outputs": [],
   "source": [
    "quora_vocab_freq_list = np.load('/Users/zhang/MscProject_tweak2vec/corpus/quora_vocab5.npy')\n",
    "quora_vocab_list = [w[0] for w in quora_vocab_freq_list]\n",
    "quora_vocab_list.append('UNK')"
   ]
  },
  {
   "cell_type": "code",
   "execution_count": 5,
   "metadata": {
    "collapsed": true
   },
   "outputs": [],
   "source": [
    "quora_word2int = {word: ii for ii, word in enumerate(quora_vocab_list)}"
   ]
  },
  {
   "cell_type": "code",
   "execution_count": 7,
   "metadata": {},
   "outputs": [
    {
     "name": "stderr",
     "output_type": "stream",
     "text": [
      "/Users/zhang/anaconda/envs/mlp/lib/python3.6/site-packages/ipykernel_launcher.py:8: DeprecationWarning: Call to deprecated `__getitem__` (Method will be removed in 4.0.0, use self.wv.__getitem__() instead).\n",
      "  \n"
     ]
    }
   ],
   "source": [
    "quora_wordVec = list()\n",
    "google_wordVec = list()\n",
    "\n",
    "init_width = 0.5 / 300\n",
    "\n",
    "\n",
    "for word in quora_vocab_list:\n",
    "    quora_wordVec.append(quora_model[word])\n",
    "    if word in google_model_full:\n",
    "        google_wordVec.append(google_model_full[word])\n",
    "    if word not in google_model_full:\n",
    "        #google_wordVec.append(google_model_full['UNK'])\n",
    "        google_wordVec.append(2*init_width*np.random.random(300)-init_width)\n",
    "    "
   ]
  },
  {
   "cell_type": "code",
   "execution_count": 8,
   "metadata": {
    "collapsed": true
   },
   "outputs": [],
   "source": [
    "np.save('gensim_quora.npy',np.array(quora_wordVec))"
   ]
  },
  {
   "cell_type": "code",
   "execution_count": 21,
   "metadata": {},
   "outputs": [
    {
     "name": "stderr",
     "output_type": "stream",
     "text": [
      "/Users/zhang/anaconda/envs/nlp/lib/python3.6/site-packages/ipykernel_launcher.py:6: DeprecationWarning: Call to deprecated `__getitem__` (Method will be removed in 4.0.0, use self.wv.__getitem__() instead).\n",
      "  \n"
     ]
    }
   ],
   "source": [
    "stack_wordVec = list()\n",
    "stack_wordVec.append(np.zeros(300))\n",
    "google_wordVec = list()\n",
    "google_wordVec.append(np.zeros(300))\n",
    "for word in stack_vocab_list:\n",
    "    stack_wordVec.append(stack_model[word])\n",
    "    if word in google_model_full:\n",
    "        google_wordVec.append(google_model_full[word])\n",
    "    if word not in google_model_full:\n",
    "        #google_wordVec.append(google_model_full['UNK'])\n",
    "        google_wordVec.append(0.5-np.random.random(300))\n",
    "    "
   ]
  },
  {
   "cell_type": "code",
   "execution_count": 33,
   "metadata": {
    "collapsed": true
   },
   "outputs": [],
   "source": [
    "np.save('word2vec_googlequora5.npy',np.array(google_wordVec))\n",
    "np.save('word2vec_quora5.npy',np.array(quora_wordVec))"
   ]
  },
  {
   "cell_type": "markdown",
   "metadata": {},
   "source": [
    "### PCA+visualization"
   ]
  },
  {
   "cell_type": "code",
   "execution_count": 116,
   "metadata": {
    "collapsed": true
   },
   "outputs": [],
   "source": [
    "\n",
    "from sklearn.decomposition import PCA\n",
    "import pandas as pd\n",
    "import matplotlib.pyplot as plt\n",
    "pca = PCA(n_components=2)"
   ]
  },
  {
   "cell_type": "code",
   "execution_count": 177,
   "metadata": {},
   "outputs": [
    {
     "data": {
      "text/plain": [
       "714"
      ]
     },
     "execution_count": 177,
     "metadata": {},
     "output_type": "execute_result"
    }
   ],
   "source": [
    "oov_list = list()\n",
    "invocab_list = list()\n",
    "for word in stack_vocab_list:\n",
    "    if word not in google_model_1k:\n",
    "        oov_list.append(word)\n",
    "    if word in google_model_1k:\n",
    "        invocab_list.append(word)\n",
    "        \n",
    "len(invocab_list)"
   ]
  },
  {
   "cell_type": "code",
   "execution_count": 184,
   "metadata": {
    "scrolled": true
   },
   "outputs": [
    {
     "name": "stderr",
     "output_type": "stream",
     "text": [
      "/Users/zhang/anaconda/envs/nlp/lib/python3.6/site-packages/ipykernel_launcher.py:5: DeprecationWarning: Call to deprecated `__getitem__` (Method will be removed in 4.0.0, use self.wv.__getitem__() instead).\n",
      "  \"\"\"\n"
     ]
    }
   ],
   "source": [
    "google_pivot_vec = list()\n",
    "stack_pivot_vec = list()\n",
    "for word in invocab_list[0:10]:\n",
    "    google_pivot_vec.append(google_model_40k[word])\n",
    "    stack_pivot_vec.append(stack_model[word])"
   ]
  },
  {
   "cell_type": "code",
   "execution_count": 186,
   "metadata": {
    "collapsed": true
   },
   "outputs": [],
   "source": [
    "np.save('google_pivot_vec.npy',np.array(google_pivot_vec))\n",
    "np.save('stack_pivot_vec.npy',np.array(stack_pivot_vec))\n",
    "np.save('invocab_list.npy',np.array(invocab_list))"
   ]
  },
  {
   "cell_type": "code",
   "execution_count": 154,
   "metadata": {
    "collapsed": true
   },
   "outputs": [],
   "source": [
    "google_pc = pca.fit_transform(google_pivot_vec)\n",
    "stack_pc = pca.fit_transform(stack_pivot_vec)\n",
    "google_pcDF = pd.DataFrame(data = google_pc\n",
    "             , columns = ['pc 1', 'pc 2'])\n",
    "stack_pcDF = pd.DataFrame(data = stack_pc\n",
    "             , columns = ['pc 1', 'pc 2'])"
   ]
  },
  {
   "cell_type": "code",
   "execution_count": 166,
   "metadata": {
    "collapsed": true
   },
   "outputs": [],
   "source": [
    "start = 0\n",
    "end = 50"
   ]
  },
  {
   "cell_type": "code",
   "execution_count": 167,
   "metadata": {},
   "outputs": [
    {
     "data": {
      "text/plain": [
       "<matplotlib.collections.PathCollection at 0x1b3d144470>"
      ]
     },
     "execution_count": 167,
     "metadata": {},
     "output_type": "execute_result"
    },
    {
     "data": {
      "image/png": "[encoded data removed]",
      "text/plain": [
       "<Figure size 432x288 with 1 Axes>"
      ]
     },
     "metadata": {},
     "output_type": "display_data"
    }
   ],
   "source": [
    "google_x = [w[0] for w in google_pc[start:end] ]\n",
    "google_y = [w[1] for w in google_pc[start:end] ]\n",
    "i=start\n",
    "for a,b in zip(google_x,google_y):\n",
    "    plt.text(a+0.05, b, invocab_list[i], ha='center', va= 'bottom',fontsize=10)\n",
    "    i=i+1\n",
    "plt.scatter(google_x, google_y)"
   ]
  },
  {
   "cell_type": "code",
   "execution_count": 168,
   "metadata": {},
   "outputs": [
    {
     "data": {
      "text/plain": [
       "<matplotlib.collections.PathCollection at 0x1b3aa4af98>"
      ]
     },
     "execution_count": 168,
     "metadata": {},
     "output_type": "execute_result"
    },
    {
     "data": {
      "image/png": "[encoded data removed]",
      "text/plain": [
       "<Figure size 432x288 with 1 Axes>"
      ]
     },
     "metadata": {},
     "output_type": "display_data"
    }
   ],
   "source": [
    "stack_x = [w[0] for w in stack_pc[start:end] ]\n",
    "stack_y = [w[1] for w in stack_pc[start:end] ]\n",
    "i=start\n",
    "for a,b in zip(stack_x,stack_y):\n",
    "    plt.text(a+0.05, b, invocab_list[i], ha='center', va= 'bottom',fontsize=10)\n",
    "    i=i+1\n",
    "plt.scatter(stack_x, stack_y)"
   ]
  }
 ],
 "metadata": {
  "kernelspec": {
   "display_name": "Python 3",
   "language": "python",
   "name": "python3"
  },
  "language_info": {
   "codemirror_mode": {
    "name": "ipython",
    "version": 3
   },
   "file_extension": ".py",
   "mimetype": "text/x-python",
   "name": "python",
   "nbconvert_exporter": "python",
   "pygments_lexer": "ipython3",
   "version": "3.6.3"
  }
 },
 "nbformat": 4,
 "nbformat_minor": 2
}
